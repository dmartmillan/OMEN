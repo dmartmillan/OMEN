{
 "cells": [
  {
   "cell_type": "code",
   "execution_count": 41,
   "id": "ef078fc8",
   "metadata": {},
   "outputs": [],
   "source": [
    "import pandas as pd\n",
    "import numpy as np"
   ]
  },
  {
   "cell_type": "code",
   "execution_count": 42,
   "id": "62b00b31",
   "metadata": {},
   "outputs": [
    {
     "name": "stdout",
     "output_type": "stream",
     "text": [
      "             0        1   2           3\n",
      "0         A1CF  APOBEC1  pp  undirected\n",
      "1         A1CF    EP300  pp  undirected\n",
      "2          A2M    APOA1  pp  undirected\n",
      "3          A2M     BMP1  pp  undirected\n",
      "4          A2M    KLKB1  pp  undirected\n",
      "...        ...      ...  ..         ...\n",
      "217181     ZP2      ZP4  pp  undirected\n",
      "217182     ZP3      ZP4  pp  undirected\n",
      "217183    ZW10   ZWILCH  pp  undirected\n",
      "217184    ZW10    ZWINT  pp  undirected\n",
      "217185  ZWILCH    ZWINT  pp  undirected\n",
      "\n",
      "[217186 rows x 4 columns]\n"
     ]
    }
   ],
   "source": [
    "df = pd.read_csv('net1_reactome.csv',skiprows=1,header=None)\n",
    "print(df)"
   ]
  },
  {
   "cell_type": "code",
   "execution_count": 44,
   "id": "095948a3",
   "metadata": {},
   "outputs": [
    {
     "name": "stdout",
     "output_type": "stream",
     "text": [
      "(217186, 4)\n"
     ]
    },
    {
     "data": {
      "text/plain": [
       "array(['A1CF', 'APOBEC1', 'pp', 'undirected'], dtype=object)"
      ]
     },
     "execution_count": 44,
     "metadata": {},
     "output_type": "execute_result"
    }
   ],
   "source": [
    "df_matrix = df.to_numpy()\n",
    "print(df_matrix.shape)\n",
    "df_matrix[0]"
   ]
  },
  {
   "cell_type": "code",
   "execution_count": 49,
   "id": "0655ae35",
   "metadata": {},
   "outputs": [],
   "source": [
    "intro = ['%%%%%%%%%%%%%%%%%%%%%%%%%%%%%%%%%%%%%%%%%%%%%%%%%%%%%%%%%%%%%%%%%%%%%%%%%%%%%%%%',\n",
    "'% WHEN PERFORMING EXPERIMENTS ON YOUR OWN DATA,',\n",
    "'% SPECIFY YOUR NETWORK USING undirected_iteraction/2 (i.e. replace those facts)',\n",
    "'% AND ENSURE THE FOLLOWING HEADER IS INCLUDED IN YOUR NETWORK FILE',\n",
    "'%',\n",
    "'% HEADER START',\n",
    "'%%%%%%%%%%%%%%%%%%%%%%%%%%%%%%%%%%%%%%%%%%%%%%%%%%%%%%%%%%%%%%%%%%%%%%%%%%%%%%%%',\n",
    "'',\n",
    "'subnetwork(Genes, Subnetwork) :-',\n",
    "'    findall(undirected_interaction(X, Y),',\n",
    "'            (undirected_interaction(X, Y), memberchk(X, Genes), memberchk(Y, Genes)),',\n",
    "'            Subnetwork).',\n",
    "'',\n",
    "'interaction(X, Y) :-',\n",
    "'    undirected_interaction(X, Y).',\n",
    "'interaction(X, Y) :-',\n",
    "'    undirected_interaction(Y, X).',\n",
    "'',\n",
    "'%%%%%%%%%%%%%%%%%%%%%%%%%%%%%%%%%%%%%%%%%%%%%%%%%%%%%%%%%%%%%%%%%%%%%%%%%%%%%%%%',\n",
    "'% HEADER END',\n",
    "'%%%%%%%%%%%%%%%%%%%%%%%%%%%%%%%%%%%%%%%%%%%%%%%%%%%%%%%%%%%%%%%%%%%%%%%%%%%%%%%%','']\n",
    "with open('network.pl', 'w') as f:\n",
    "    for i in intro:\n",
    "        f.write(i)\n",
    "        f.write('\\n')\n",
    "    for j in range(df_matrix.shape[0]):        \n",
    "        f.write('undirected_interaction(\\'' + df_matrix[j,0] + '\\',\\'' + df_matrix[j,1] + '\\').')\n",
    "        f.write('\\n')\n",
    "f.close()"
   ]
  }
 ],
 "metadata": {
  "kernelspec": {
   "display_name": "Python 3 (ipykernel)",
   "language": "python",
   "name": "python3"
  },
  "language_info": {
   "codemirror_mode": {
    "name": "ipython",
    "version": 3
   },
   "file_extension": ".py",
   "mimetype": "text/x-python",
   "name": "python",
   "nbconvert_exporter": "python",
   "pygments_lexer": "ipython3",
   "version": "3.10.6"
  }
 },
 "nbformat": 4,
 "nbformat_minor": 5
}
