{
 "cells": [
  {
   "cell_type": "code",
   "execution_count": 14,
   "id": "ef078fc8",
   "metadata": {},
   "outputs": [],
   "source": [
    "import pandas as pd\n",
    "import numpy as np\n",
    "import re"
   ]
  },
  {
   "cell_type": "code",
   "execution_count": 15,
   "id": "62b00b31",
   "metadata": {},
   "outputs": [
    {
     "name": "stdout",
     "output_type": "stream",
     "text": [
      "               0       1\n",
      "0            A2M   APOA1\n",
      "1            A2M    BMP1\n",
      "2            A2M   KLKB1\n",
      "3            A2M    MMP1\n",
      "4            A2M   MMP13\n",
      "...          ...     ...\n",
      "487742  KRTAP1-5   P2RY6\n",
      "487743    GPR132   SOCS1\n",
      "487744     CXCL3   PTGES\n",
      "487745     GDPD3  RNF183\n",
      "487746    RNF183    TBX6\n",
      "\n",
      "[487747 rows x 2 columns]\n"
     ]
    }
   ],
   "source": [
    "df = pd.read_csv('../../new_networks/Reactome_Dorothea_Aracne.txt',skiprows=1,header=None,sep='\\t')\n",
    "print(df)"
   ]
  },
  {
   "cell_type": "code",
   "execution_count": 16,
   "id": "095948a3",
   "metadata": {},
   "outputs": [
    {
     "name": "stdout",
     "output_type": "stream",
     "text": [
      "(487747, 2)\n"
     ]
    },
    {
     "data": {
      "text/plain": [
       "array(['A2M', 'APOA1'], dtype=object)"
      ]
     },
     "execution_count": 16,
     "metadata": {},
     "output_type": "execute_result"
    }
   ],
   "source": [
    "df_matrix = df.to_numpy()\n",
    "print(df_matrix.shape)\n",
    "df_matrix[0]"
   ]
  },
  {
   "cell_type": "code",
   "execution_count": 17,
   "id": "0655ae35",
   "metadata": {},
   "outputs": [],
   "source": [
    "intro = ['%%%%%%%%%%%%%%%%%%%%%%%%%%%%%%%%%%%%%%%%%%%%%%%%%%%%%%%%%%%%%%%%%%%%%%%%%%%%%%%%',\n",
    "'% WHEN PERFORMING EXPERIMENTS ON YOUR OWN DATA,',\n",
    "'% SPECIFY YOUR NETWORK USING undirected_iteraction/2 (i.e. replace those facts)',\n",
    "'% AND ENSURE THE FOLLOWING HEADER IS INCLUDED IN YOUR NETWORK FILE',\n",
    "'%',\n",
    "'% HEADER START',\n",
    "'%%%%%%%%%%%%%%%%%%%%%%%%%%%%%%%%%%%%%%%%%%%%%%%%%%%%%%%%%%%%%%%%%%%%%%%%%%%%%%%%',\n",
    "'',\n",
    "'subnetwork(Genes, Subnetwork) :-',\n",
    "'    findall(undirected_interaction(X, Y),',\n",
    "'            (undirected_interaction(X, Y), memberchk(X, Genes), memberchk(Y, Genes)),',\n",
    "'            Subnetwork).',\n",
    "'',\n",
    "'interaction(X, Y) :-',\n",
    "'    undirected_interaction(X, Y).',\n",
    "'interaction(X, Y) :-',\n",
    "'    undirected_interaction(Y, X).',\n",
    "'',\n",
    "'%%%%%%%%%%%%%%%%%%%%%%%%%%%%%%%%%%%%%%%%%%%%%%%%%%%%%%%%%%%%%%%%%%%%%%%%%%%%%%%%',\n",
    "'% HEADER END',\n",
    "'%%%%%%%%%%%%%%%%%%%%%%%%%%%%%%%%%%%%%%%%%%%%%%%%%%%%%%%%%%%%%%%%%%%%%%%%%%%%%%%%','']\n",
    "with open('network_Reactome_Dorothea_Aracne.pl', 'w') as f:\n",
    "    for i in intro:\n",
    "        f.write(i)\n",
    "        f.write('\\n')\n",
    "    for j in range(df_matrix.shape[0]):\n",
    "        in_gene = re.sub(r' VARIANT PROTEIN', '', str(df_matrix[j,0]))\n",
    "        out_gene = re.sub(r' VARIANT PROTEIN', '', str(df_matrix[j,1]))\n",
    "        f.write('undirected_interaction(\\'' + str(in_gene).strip() + '\\',\\'' + str(out_gene).strip() + '\\').')\n",
    "        f.write('\\n')\n",
    "f.close()"
   ]
  },
  {
   "cell_type": "code",
   "execution_count": null,
   "id": "39862a79",
   "metadata": {},
   "outputs": [],
   "source": []
  }
 ],
 "metadata": {
  "kernelspec": {
   "display_name": "Python 3 (ipykernel)",
   "language": "python",
   "name": "python3"
  },
  "language_info": {
   "codemirror_mode": {
    "name": "ipython",
    "version": 3
   },
   "file_extension": ".py",
   "mimetype": "text/x-python",
   "name": "python",
   "nbconvert_exporter": "python",
   "pygments_lexer": "ipython3",
   "version": "3.10.6"
  }
 },
 "nbformat": 4,
 "nbformat_minor": 5
}
