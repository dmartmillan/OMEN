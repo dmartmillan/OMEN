{
 "cells": [
  {
   "cell_type": "code",
   "execution_count": 31,
   "id": "959d4ea6",
   "metadata": {},
   "outputs": [],
   "source": [
    "import pandas as pd\n",
    "import seaborn as sns"
   ]
  },
  {
   "cell_type": "code",
   "execution_count": 32,
   "id": "cb152a72",
   "metadata": {},
   "outputs": [],
   "source": [
    "rankings = {}\n",
    "rankings_aggr = {}\n",
    "rankings_non_aggr = {}\n",
    "rankings_nw8 = {}\n",
    "rankings_nw8_aggr = {}\n",
    "rankings_nw8_non_aggr = {}\n",
    "\n",
    "alpha = 0.65\n",
    "\n",
    "df = pd.read_csv('ranks/alpha_'+str(alpha)+'.desc',header = None)\n",
    "df = df[df.index<100]\n",
    "rankings = {k: i for i, k in enumerate(df[0].tolist())}\n",
    "\n",
    "df = pd.read_csv('ranks/alpha_'+str(alpha)+'_aggr.desc',header = None)\n",
    "df = df[df.index<100]\n",
    "rankings_aggr = {k: i for i, k in enumerate(df[0].tolist())}\n",
    "\n",
    "df = pd.read_csv('ranks/alpha_'+str(alpha)+'_non_aggr.desc',header = None)\n",
    "df = df[df.index<100]\n",
    "rankings_non_aggr = {k: i for i, k in enumerate(df[0].tolist())}\n",
    "\n",
    "intersection_all_aggr = set(rankings).intersection(set(rankings_aggr))\n",
    "intersection_all_nonaggr = set(rankings).intersection(set(rankings_non_aggr))\n",
    "intersection_aggr_nonaggr = set(rankings_aggr).intersection(set(rankings_non_aggr))"
   ]
  },
  {
   "cell_type": "code",
   "execution_count": 33,
   "id": "6f7591e3",
   "metadata": {},
   "outputs": [],
   "source": [
    "df = pd.read_csv('ranks/network8_alpha_'+str(alpha)+'.desc',header = None)\n",
    "df = df[df.index<100]\n",
    "rankings_nw8 = {k: i for i, k in enumerate(df[0].tolist())}\n",
    "\n",
    "df = pd.read_csv('ranks/network8_alpha_'+str(alpha)+'_aggr.desc',header = None)\n",
    "df = df[df.index<100]\n",
    "rankings_nw8_aggr = {k: i for i, k in enumerate(df[0].tolist())}\n",
    "\n",
    "df = pd.read_csv('ranks/network8_alpha_'+str(alpha)+'_non_aggr.desc',header = None)\n",
    "df = df[df.index<100]\n",
    "rankings_nw8_non_aggr = {k: i for i, k in enumerate(df[0].tolist())}\n",
    "\n",
    "intersection_all_aggr_net8 = set(rankings_nw8).intersection(set(rankings_nw8_aggr))\n",
    "intersection_all_nonaggr_net8 = set(rankings_nw8).intersection(set(rankings_nw8_non_aggr))\n",
    "intersection_aggr_nonaggr_net8 = set(rankings_nw8_aggr).intersection(set(rankings_nw8_non_aggr))"
   ]
  },
  {
   "cell_type": "code",
   "execution_count": 34,
   "id": "3ee72889",
   "metadata": {},
   "outputs": [
    {
     "data": {
      "image/png": "[encoded data removed]",
      "text/plain": [
       "<Figure size 500x500 with 1 Axes>"
      ]
     },
     "metadata": {},
     "output_type": "display_data"
    }
   ],
   "source": [
    "##Network 1\n",
    "\n",
    "## Intersection all - aggr\n",
    "inter = []\n",
    "distance = []\n",
    "position = []\n",
    "\n",
    "inter_all_aggr_section = []\n",
    "\n",
    "\n",
    "for g in intersection_all_aggr:\n",
    "    value_all = rankings[g]\n",
    "    value_aggr = rankings_aggr[g]\n",
    "    if (value_all > 50 and value_aggr > 50) or (value_all < 50 and value_aggr < 50):\n",
    "        inter_all_aggr_section.append(g)\n",
    "    total_value = abs(value_all - value_aggr)\n",
    "    inter.append(\"all - aggr\")\n",
    "    distance.append(total_value)\n",
    "    \n",
    "inter_all_nonaggr_section = []\n",
    "    \n",
    "## Intersection all - nonaggr\n",
    "for g in intersection_all_nonaggr:\n",
    "    value_all = rankings[g]\n",
    "    value_nonaggr = rankings_non_aggr[g]\n",
    "    if (value_all > 50 and value_nonaggr > 50) or (value_all < 50 and value_nonaggr < 50):\n",
    "        inter_all_nonaggr_section.append(g)\n",
    "    total_value = abs(value_all - value_nonaggr)\n",
    "    inter.append(\"all - nonaggr\")\n",
    "    distance.append(total_value)\n",
    "\n",
    "inter_aggr_nonaggr_section = []\n",
    "\n",
    "## Intersection aggr - nonaggr\n",
    "for g in intersection_aggr_nonaggr:\n",
    "    value_aggr = rankings_aggr[g]\n",
    "    value_nonaggr = rankings_non_aggr[g]\n",
    "    if (value_aggr > 50 and value_nonaggr > 50) or (value_aggr < 50 and value_nonaggr < 50):\n",
    "        inter_aggr_nonaggr_section.append(g)\n",
    "    total_value = abs(value_aggr - value_nonaggr)\n",
    "    inter.append(\"aggr - nonaggr\")\n",
    "    distance.append(total_value)\n",
    "\n",
    "    \n",
    "d = {'Intersection': inter, 'Distance': distance}\n",
    "df = pd.DataFrame(data=d)\n",
    "\n",
    "sns_plot = sns.catplot(data=df, x=\"Intersection\", y=\"Distance\", kind=\"swarm\")\n",
    "sns_plot.savefig(\"./plots_ranks/differences_ranking_genes.png\")"
   ]
  },
  {
   "cell_type": "code",
   "execution_count": 35,
   "id": "761aae08",
   "metadata": {},
   "outputs": [
    {
     "name": "stdout",
     "output_type": "stream",
     "text": [
      "Overlap between all the Equal section genes: 3\n",
      "\n",
      "\n",
      "    Gene  Pos ranking all  Pos ranking aggr  Pos ranking nonaggr\n",
      "0   TP53                1                 0                    2\n",
      "1  ACTG1               13                 1                   44\n",
      "2    FOS               46                29                   30\n"
     ]
    }
   ],
   "source": [
    "inter_eq = set(inter_all_aggr_section).intersection(set(intersection_all_nonaggr))\n",
    "inter_eq_2 = set(inter_aggr_nonaggr_section).intersection(inter_eq)\n",
    "print(\"Overlap between all the Equal section genes: \" + str(len(inter_eq_2)))\n",
    "print(\"\\n\")\n",
    "\n",
    "genes_section = []\n",
    "pos_all = []\n",
    "pos_nonaggr = []\n",
    "pos_aggr = []\n",
    "\n",
    "for g in inter_eq_2: \n",
    "    genes_section.append(g)\n",
    "    pos_all.append(rankings[g])\n",
    "    pos_aggr.append(rankings_aggr[g])\n",
    "    pos_nonaggr.append(rankings_non_aggr[g])\n",
    "\n",
    "    \n",
    "d_section = {'Gene': genes_section, 'Pos ranking all': pos_all, 'Pos ranking aggr': pos_aggr, 'Pos ranking nonaggr': pos_nonaggr}\n",
    "df_section = pd.DataFrame(data=d_section)\n",
    "print(df_section)\n",
    "df_section.to_csv(\"./plots_ranks/Overlap_between_all_the_Equal_section.csv\") "
   ]
  },
  {
   "cell_type": "code",
   "execution_count": 36,
   "id": "5670947e",
   "metadata": {},
   "outputs": [
    {
     "data": {
      "image/png": "[encoded data removed]",
      "text/plain": [
       "<Figure size 500x500 with 1 Axes>"
      ]
     },
     "metadata": {},
     "output_type": "display_data"
    }
   ],
   "source": [
    "##Network 8\n",
    "\n",
    "## Intersection all - aggr\n",
    "inter = []\n",
    "distance = []\n",
    "position = []\n",
    "\n",
    "inter_all_aggr_section_net8 = []\n",
    "\n",
    "\n",
    "for g in intersection_all_aggr_net8:\n",
    "    value_all = rankings_nw8[g]\n",
    "    value_aggr = rankings_nw8_aggr[g]\n",
    "    if (value_all > 50 and value_aggr > 50) or (value_all < 50 and value_aggr < 50):\n",
    "        inter_all_aggr_section_net8.append(g)\n",
    "    total_value = abs(value_all - value_aggr)\n",
    "    inter.append(\"all - aggr\")\n",
    "    distance.append(total_value)\n",
    "    \n",
    "inter_all_nonaggr_section_net8 = []\n",
    "    \n",
    "## Intersection all - nonaggr\n",
    "for g in intersection_all_nonaggr_net8:\n",
    "    value_all = rankings_nw8[g]\n",
    "    value_nonaggr = rankings_nw8_non_aggr[g]\n",
    "    if (value_all > 50 and value_nonaggr > 50) or (value_all < 50 and value_nonaggr < 50):\n",
    "        inter_all_nonaggr_section_net8.append(g)\n",
    "    total_value = abs(value_all - value_nonaggr)\n",
    "    inter.append(\"all - nonaggr\")\n",
    "    distance.append(total_value)\n",
    "\n",
    "inter_aggr_nonaggr_section_net8 = []\n",
    "\n",
    "## Intersection aggr - nonaggr\n",
    "for g in intersection_aggr_nonaggr_net8:\n",
    "    value_aggr = rankings_nw8_aggr[g]\n",
    "    value_nonaggr = rankings_nw8_non_aggr[g]\n",
    "    if (value_aggr > 50 and value_nonaggr > 50) or (value_aggr < 50 and value_nonaggr < 50):\n",
    "        inter_aggr_nonaggr_section_net8.append(g)\n",
    "    total_value = abs(value_aggr - value_nonaggr)\n",
    "    inter.append(\"aggr - nonaggr\")\n",
    "    distance.append(total_value)\n",
    "\n",
    "    \n",
    "d = {'Intersection': inter, 'Distance': distance}\n",
    "df = pd.DataFrame(data=d)\n",
    "\n",
    "sns_plot = sns.catplot(data=df, x=\"Intersection\", y=\"Distance\", kind=\"swarm\")\n",
    "sns_plot.savefig(\"./plots_ranks/network8_differences_ranking_genes.png\")"
   ]
  },
  {
   "cell_type": "code",
   "execution_count": 37,
   "id": "7c43aa4d",
   "metadata": {},
   "outputs": [
    {
     "name": "stdout",
     "output_type": "stream",
     "text": [
      "Overlap between all the Equal section genes: 6\n",
      "\n",
      "\n",
      "     Gene  Pos ranking all  Pos ranking aggr  Pos ranking nonaggr\n",
      "0    NME2                5                 1                    3\n",
      "1   NCOA3                9                 5                    6\n",
      "2    BRF2               18                29                   17\n",
      "3    SOX2               13                21                   10\n",
      "4  ZNF766               54                54                   61\n",
      "5    TP53                4                 0                    2\n"
     ]
    }
   ],
   "source": [
    "inter_eq = set(inter_all_aggr_section_net8).intersection(set(intersection_all_nonaggr_net8))\n",
    "inter_eq_2 = set(inter_aggr_nonaggr_section_net8).intersection(inter_eq)\n",
    "print(\"Overlap between all the Equal section genes: \" + str(len(inter_eq_2)))\n",
    "print(\"\\n\")\n",
    "\n",
    "genes_section = []\n",
    "pos_all = []\n",
    "pos_nonaggr = []\n",
    "pos_aggr = []\n",
    "\n",
    "for g in inter_eq_2: \n",
    "    genes_section.append(g)\n",
    "    pos_all.append(rankings_nw8[g])\n",
    "    pos_aggr.append(rankings_nw8_aggr[g])\n",
    "    pos_nonaggr.append(rankings_nw8_non_aggr[g])\n",
    "\n",
    "    \n",
    "d_section = {'Gene': genes_section, 'Pos ranking all': pos_all, 'Pos ranking aggr': pos_aggr, 'Pos ranking nonaggr': pos_nonaggr}\n",
    "df_section = pd.DataFrame(data=d_section)\n",
    "print(df_section)\n",
    "df_section.to_csv(\"./plots_ranks/network8_Overlap_between_all_the_Equal_section.csv\") "
   ]
  },
  {
   "cell_type": "code",
   "execution_count": null,
   "id": "53c41d65",
   "metadata": {},
   "outputs": [],
   "source": []
  }
 ],
 "metadata": {
  "kernelspec": {
   "display_name": "Python 3 (ipykernel)",
   "language": "python",
   "name": "python3"
  },
  "language_info": {
   "codemirror_mode": {
    "name": "ipython",
    "version": 3
   },
   "file_extension": ".py",
   "mimetype": "text/x-python",
   "name": "python",
   "nbconvert_exporter": "python",
   "pygments_lexer": "ipython3",
   "version": "3.10.6"
  }
 },
 "nbformat": 4,
 "nbformat_minor": 5
}
