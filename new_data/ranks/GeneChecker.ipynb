{
 "cells": [
  {
   "cell_type": "code",
   "execution_count": 18,
   "id": "07218cbb",
   "metadata": {},
   "outputs": [],
   "source": [
    "import os\n",
    "import sys\n",
    "import pandas as pd\n",
    "import math"
   ]
  },
  {
   "cell_type": "code",
   "execution_count": 35,
   "id": "e4c08f0f",
   "metadata": {},
   "outputs": [],
   "source": [
    "#Read only the ranks from the not corrected CADDs and alpha 0.65\n",
    "var_holder = {} #Varibles for iteration\n",
    "filelist = [file for file in os.listdir(sys.path[0]) if \"_0.65_\" in file and \"corrected\" not in file ] #To only open .txt files\n",
    "for filename in filelist: #This part could be merged with the filelist to save one line, but for a correction in the order of files I did it separately\n",
    "    TFile =  pd.read_csv(os.path.join(sys.path[0], filename),sep=\"\\t\",header=None, index_col = 0)\n",
    "    Store = TFile.index.values.tolist()\n",
    "    var_holder[filename.replace(\".desc\",\"\")] = Store[:int(len(Store)*0.01)] #Get the 1% of the genes\n",
    "    "
   ]
  },
  {
   "cell_type": "code",
   "execution_count": 36,
   "id": "c5d49dee",
   "metadata": {},
   "outputs": [],
   "source": [
    "def GeneChecker(CancerLists,RelevantGenes):\n",
    "    for file in var_holder:\n",
    "        for i in range(len(var_holder[file])):\n",
    "            for gene in RelevantGenes:\n",
    "                if var_holder[file][i].startswith(gene):\n",
    "                    print(f\"In {file} the relevent gene {gene} is present for {var_holder[file][i]} at position {i}\")"
   ]
  },
  {
   "cell_type": "code",
   "execution_count": 37,
   "id": "3759140a",
   "metadata": {},
   "outputs": [
    {
     "name": "stdout",
     "output_type": "stream",
     "text": [
      "In alpha_0.65_aggr the relevent gene MYH11 is present for MYH11 at position 32\n",
      "In network8_alpha_0.65_aggr the relevent gene MYH11 is present for MYH11 at position 39\n"
     ]
    }
   ],
   "source": [
    "Su2022 = [\"ACTG2\", \"APOE\", \"F5\", \"CALD1\", \"MYH11\", \"MYL9\", \"MYLK\", \"TPM1\", \"TPM2\", \"CALM1\"] #https://www.ncbi.nlm.nih.gov/pmc/articles/PMC9256333/\n",
    "GeneChecker(var_holder,Su2022)"
   ]
  },
  {
   "cell_type": "code",
   "execution_count": 38,
   "id": "5a1e5511",
   "metadata": {},
   "outputs": [
    {
     "name": "stdout",
     "output_type": "stream",
     "text": [
      "In alpha_0.65_aggr the relevent gene BM is present for BMPR2 at position 19\n",
      "In alpha_0.65_aggr the relevent gene MMP is present for MMP9 at position 23\n",
      "In alpha_0.65_aggr the relevent gene MYH11 is present for MYH11 at position 32\n",
      "In network8_alpha_0.65_aggr the relevent gene BM is present for BMPR2 at position 28\n",
      "In network8_alpha_0.65_aggr the relevent gene MMP is present for MMP9 at position 31\n",
      "In network8_alpha_0.65_aggr the relevent gene MYH11 is present for MYH11 at position 39\n"
     ]
    }
   ],
   "source": [
    "Saraji2022 = [\"CD36\", \"FOXC2\", \"CHAD\", \"SPP1\", \"MMP\", \"IBSP\", \"PTX3\", \"BM\", \"ACTG2\", \"MYH11\", \"CNN1\", \"FGF2\", \"SPOCK3\", \"CHRDL1\"] #https://www.ncbi.nlm.nih.gov/pmc/articles/PMC9656691/pdf/ijms-23-13029.pdf\n",
    "GeneChecker(var_holder,Saraji2022)"
   ]
  },
  {
   "cell_type": "code",
   "execution_count": 39,
   "id": "7866662d",
   "metadata": {},
   "outputs": [
    {
     "name": "stdout",
     "output_type": "stream",
     "text": [
      "In alpha_0.65_aggr the relevent gene MYH11 is present for MYH11 at position 32\n",
      "In network8_alpha_0.65_aggr the relevent gene MYH11 is present for MYH11 at position 39\n"
     ]
    }
   ],
   "source": [
    "Guo2017 = [\"TAGLN\", \"SORBS1\", \"SLC22A3\", \"SLC14A1\", \"SERPINA3\", \"PI15\", \"PGM5\", \"PDE5A\", \"PCP4\", \"MYLK\", \"MYH11\", \"MYBPC1\",\"MSMB\", \"LTF\", \"IGJ\", \"PAM3B\",\"DDP4\", \"CSRP1\", \"CNN1\", \"CHRDL1\", \"AZGP1\", \"ACTG2\"] #https://www.ncbi.nlm.nih.gov/pmc/articles/PMC5661486/\n",
    "GeneChecker(var_holder,Guo2017)"
   ]
  },
  {
   "cell_type": "code",
   "execution_count": null,
   "id": "f99ef1f5",
   "metadata": {},
   "outputs": [],
   "source": []
  }
 ],
 "metadata": {
  "kernelspec": {
   "display_name": "Python 3 (ipykernel)",
   "language": "python",
   "name": "python3"
  },
  "language_info": {
   "codemirror_mode": {
    "name": "ipython",
    "version": 3
   },
   "file_extension": ".py",
   "mimetype": "text/x-python",
   "name": "python",
   "nbconvert_exporter": "python",
   "pygments_lexer": "ipython3",
   "version": "3.9.12"
  }
 },
 "nbformat": 4,
 "nbformat_minor": 5
}
