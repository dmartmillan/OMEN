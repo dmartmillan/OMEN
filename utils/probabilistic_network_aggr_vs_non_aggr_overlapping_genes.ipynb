{
 "cells": [
  {
   "cell_type": "code",
   "execution_count": 28,
   "id": "e2e5c067",
   "metadata": {},
   "outputs": [],
   "source": [
    "import numpy as np\n",
    "import pandas as pd\n",
    "import networkx as nx\n",
    "import os\n",
    "import matplotlib.pyplot as plt"
   ]
  },
  {
   "cell_type": "code",
   "execution_count": 44,
   "id": "a4944625",
   "metadata": {},
   "outputs": [],
   "source": [
    "# Comparison between aggr. and non-aggr networks, using gene overlap\n",
    "\n",
    "input_file_aggr = './final_networks_louise/weigthed_paths_network_Reactome_Dorothea_Aracne_alpha_0.65_aggr' # this is the 'output_file_1.evaluated.filtered_0.67' file\n",
    "input_file_non_aggr = './final_networks_louise/weigthed_paths_network_Reactome_Dorothea_Aracne_alpha_0.65_non_aggr'\n",
    "ranking_file_aggr = './final_networks_louise/network_Reactome_Dorothea_Aracne_alpha_0.65_aggr.desc'\n",
    "ranking_file_non_aggr = './final_networks_louise/network_Reactome_Dorothea_Aracne_alpha_0.65_non_aggr.desc'\n",
    "N_aggr = 100\n",
    "N_non_aggr = 100\n",
    "\n",
    "# Only a gene that is in the top N of aggresive or non-aggresive (or both) is considered\n",
    "output_file = 'subnetwork_0.65_difference_aggr_non_aggr'+str(N_aggr)+'_'+str(N_non_aggr)+'weighted'+'_overlap'+'.js'\n",
    "output_file_components_directory = 'subnetwork_0.65_difference_aggr_non_aggr'+str(N_aggr)+'_'+str(N_non_aggr)+'weighted'+'_overlap'+'/'"
   ]
  },
  {
   "cell_type": "code",
   "execution_count": 45,
   "id": "b9e8c410",
   "metadata": {},
   "outputs": [],
   "source": [
    "df_aggr = pd.read_csv(input_file_aggr,sep='[',skiprows=0,header=None)"
   ]
  },
  {
   "cell_type": "code",
   "execution_count": 46,
   "id": "298e5d1e",
   "metadata": {},
   "outputs": [],
   "source": [
    "df_non_aggr = pd.read_csv(input_file_non_aggr,sep='[',skiprows=0,header=None)"
   ]
  },
  {
   "cell_type": "code",
   "execution_count": 47,
   "id": "390b1b58",
   "metadata": {},
   "outputs": [],
   "source": [
    "def ParseDataframe(df):\n",
    "    df = df.rename(columns={0: 'path_weight', 1: 'genes_path'})\n",
    "    df[['gene1','gene2','gene3']] = df['genes_path'].str.split(',',expand=True)\n",
    "    df[['gene3','brol']] = df['gene3'].str.split(']',expand=True)\n",
    "    df = df.drop(['brol','genes_path'], axis=1)\n",
    "    df[['path_weight','brol']] = df['path_weight'].str.rsplit('-',1,expand=True)\n",
    "    df = df.drop(['brol'], axis=1)\n",
    "    return df"
   ]
  },
  {
   "cell_type": "code",
   "execution_count": 38,
   "id": "880bf05e",
   "metadata": {},
   "outputs": [
    {
     "name": "stderr",
     "output_type": "stream",
     "text": [
      "/tmp/ipykernel_11620/683794502.py:6: FutureWarning: In a future version of pandas all arguments of StringMethods.rsplit except for the argument 'pat' will be keyword-only.\n",
      "  df[['path_weight','brol']] = df['path_weight'].str.rsplit('-',1,expand=True)\n"
     ]
    },
    {
     "data": {
      "text/html": [
       "<div>\n",
       "<style scoped>\n",
       "    .dataframe tbody tr th:only-of-type {\n",
       "        vertical-align: middle;\n",
       "    }\n",
       "\n",
       "    .dataframe tbody tr th {\n",
       "        vertical-align: top;\n",
       "    }\n",
       "\n",
       "    .dataframe thead th {\n",
       "        text-align: right;\n",
       "    }\n",
       "</style>\n",
       "<table border=\"1\" class=\"dataframe\">\n",
       "  <thead>\n",
       "    <tr style=\"text-align: right;\">\n",
       "      <th></th>\n",
       "      <th>path_weight</th>\n",
       "      <th>gene1</th>\n",
       "      <th>gene2</th>\n",
       "      <th>gene3</th>\n",
       "    </tr>\n",
       "  </thead>\n",
       "  <tbody>\n",
       "    <tr>\n",
       "      <th>0</th>\n",
       "      <td>1.2891620310636499e-8</td>\n",
       "      <td>'CCNK'</td>\n",
       "      <td>'EP300'</td>\n",
       "      <td>'POLR2B'</td>\n",
       "    </tr>\n",
       "    <tr>\n",
       "      <th>1</th>\n",
       "      <td>1.2959230777380759e-8</td>\n",
       "      <td>'KIAA2026'</td>\n",
       "      <td>'EP300'</td>\n",
       "      <td>'POLR2B'</td>\n",
       "    </tr>\n",
       "    <tr>\n",
       "      <th>2</th>\n",
       "      <td>1.2974118056805423e-8</td>\n",
       "      <td>'CEP350'</td>\n",
       "      <td>'EP300'</td>\n",
       "      <td>'POLR2B'</td>\n",
       "    </tr>\n",
       "    <tr>\n",
       "      <th>3</th>\n",
       "      <td>1.3036734984671319e-8</td>\n",
       "      <td>'RARB'</td>\n",
       "      <td>'EP300'</td>\n",
       "      <td>'POLR2B'</td>\n",
       "    </tr>\n",
       "    <tr>\n",
       "      <th>4</th>\n",
       "      <td>1.3142328873196124e-8</td>\n",
       "      <td>'LIMK1'</td>\n",
       "      <td>'EP300'</td>\n",
       "      <td>'POLR2B'</td>\n",
       "    </tr>\n",
       "    <tr>\n",
       "      <th>...</th>\n",
       "      <td>...</td>\n",
       "      <td>...</td>\n",
       "      <td>...</td>\n",
       "      <td>...</td>\n",
       "    </tr>\n",
       "    <tr>\n",
       "      <th>1587369</th>\n",
       "      <td>0.0006680610381482449</td>\n",
       "      <td>'DST'</td>\n",
       "      <td>'MACROD2'</td>\n",
       "      <td>'CSMD3'</td>\n",
       "    </tr>\n",
       "    <tr>\n",
       "      <th>1587370</th>\n",
       "      <td>0.0006680610381482449</td>\n",
       "      <td>'FGF14'</td>\n",
       "      <td>'MACROD2'</td>\n",
       "      <td>'CSMD3'</td>\n",
       "    </tr>\n",
       "    <tr>\n",
       "      <th>1587371</th>\n",
       "      <td>0.0006680610381482449</td>\n",
       "      <td>'LRRC31'</td>\n",
       "      <td>'MACROD2'</td>\n",
       "      <td>'CSMD3'</td>\n",
       "    </tr>\n",
       "    <tr>\n",
       "      <th>1587372</th>\n",
       "      <td>0.0006680610381482449</td>\n",
       "      <td>'PLA2G2F'</td>\n",
       "      <td>'MACROD2'</td>\n",
       "      <td>'CSMD3'</td>\n",
       "    </tr>\n",
       "    <tr>\n",
       "      <th>1587373</th>\n",
       "      <td>0.0006680610381482449</td>\n",
       "      <td>'SGK1'</td>\n",
       "      <td>'MACROD2'</td>\n",
       "      <td>'CSMD3'</td>\n",
       "    </tr>\n",
       "  </tbody>\n",
       "</table>\n",
       "<p>1587374 rows × 4 columns</p>\n",
       "</div>"
      ],
      "text/plain": [
       "                   path_weight       gene1      gene2     gene3\n",
       "0        1.2891620310636499e-8      'CCNK'    'EP300'  'POLR2B'\n",
       "1        1.2959230777380759e-8  'KIAA2026'    'EP300'  'POLR2B'\n",
       "2        1.2974118056805423e-8    'CEP350'    'EP300'  'POLR2B'\n",
       "3        1.3036734984671319e-8      'RARB'    'EP300'  'POLR2B'\n",
       "4        1.3142328873196124e-8     'LIMK1'    'EP300'  'POLR2B'\n",
       "...                        ...         ...        ...       ...\n",
       "1587369  0.0006680610381482449       'DST'  'MACROD2'   'CSMD3'\n",
       "1587370  0.0006680610381482449     'FGF14'  'MACROD2'   'CSMD3'\n",
       "1587371  0.0006680610381482449    'LRRC31'  'MACROD2'   'CSMD3'\n",
       "1587372  0.0006680610381482449   'PLA2G2F'  'MACROD2'   'CSMD3'\n",
       "1587373  0.0006680610381482449      'SGK1'  'MACROD2'   'CSMD3'\n",
       "\n",
       "[1587374 rows x 4 columns]"
      ]
     },
     "execution_count": 38,
     "metadata": {},
     "output_type": "execute_result"
    }
   ],
   "source": [
    "df_aggr = ParseDataframe(df_aggr)\n",
    "df_aggr"
   ]
  },
  {
   "cell_type": "code",
   "execution_count": 39,
   "id": "e132fd37",
   "metadata": {},
   "outputs": [
    {
     "name": "stdout",
     "output_type": "stream",
     "text": [
      "0.7190666666666666\n"
     ]
    }
   ],
   "source": [
    "gene1 = df_aggr['gene1'].tolist()\n",
    "gene2 = df_aggr['gene2'].tolist()\n",
    "gene3 = df_aggr['gene3'].tolist()\n",
    "df_aggr_edges = pd.DataFrame(columns = ['Node1', 'Node2'])\n",
    "for i in range(10000):\n",
    "    G = []\n",
    "    G.append(gene1[i])\n",
    "    G.append(gene2[i])\n",
    "    G.append(gene3[i])\n",
    "    G = sorted(G)\n",
    "    df_aggr_edges.loc[len(df_aggr_edges)] = [G[0],G[1]]\n",
    "    df_aggr_edges.loc[len(df_aggr_edges)] = [G[1],G[2]]\n",
    "    df_aggr_edges.loc[len(df_aggr_edges)] = [G[0],G[2]] \n",
    "df_aggr_edges = df_aggr_edges.drop_duplicates()\n",
    "correction_factor_weighted_paths_aggr = (df_aggr_edges.size/10000)/3\n",
    "print(correction_factor_weighted_paths_aggr)"
   ]
  },
  {
   "cell_type": "code",
   "execution_count": 40,
   "id": "28244942",
   "metadata": {},
   "outputs": [
    {
     "name": "stderr",
     "output_type": "stream",
     "text": [
      "/tmp/ipykernel_11620/683794502.py:6: FutureWarning: In a future version of pandas all arguments of StringMethods.rsplit except for the argument 'pat' will be keyword-only.\n",
      "  df[['path_weight','brol']] = df['path_weight'].str.rsplit('-',1,expand=True)\n"
     ]
    },
    {
     "data": {
      "text/html": [
       "<div>\n",
       "<style scoped>\n",
       "    .dataframe tbody tr th:only-of-type {\n",
       "        vertical-align: middle;\n",
       "    }\n",
       "\n",
       "    .dataframe tbody tr th {\n",
       "        vertical-align: top;\n",
       "    }\n",
       "\n",
       "    .dataframe thead th {\n",
       "        text-align: right;\n",
       "    }\n",
       "</style>\n",
       "<table border=\"1\" class=\"dataframe\">\n",
       "  <thead>\n",
       "    <tr style=\"text-align: right;\">\n",
       "      <th></th>\n",
       "      <th>path_weight</th>\n",
       "      <th>gene1</th>\n",
       "      <th>gene2</th>\n",
       "      <th>gene3</th>\n",
       "    </tr>\n",
       "  </thead>\n",
       "  <tbody>\n",
       "    <tr>\n",
       "      <th>0</th>\n",
       "      <td>3.532108261764894e-9</td>\n",
       "      <td>'NCOR2'</td>\n",
       "      <td>'EP300'</td>\n",
       "      <td>'ASH1L'</td>\n",
       "    </tr>\n",
       "    <tr>\n",
       "      <th>1</th>\n",
       "      <td>3.544216300998304e-9</td>\n",
       "      <td>'CABIN1'</td>\n",
       "      <td>'EP300'</td>\n",
       "      <td>'ASH1L'</td>\n",
       "    </tr>\n",
       "    <tr>\n",
       "      <th>2</th>\n",
       "      <td>3.544216300998304e-9</td>\n",
       "      <td>'RFX7'</td>\n",
       "      <td>'EP300'</td>\n",
       "      <td>'ASH1L'</td>\n",
       "    </tr>\n",
       "    <tr>\n",
       "      <th>3</th>\n",
       "      <td>3.5445925297855654e-9</td>\n",
       "      <td>'AXIN2'</td>\n",
       "      <td>'EP300'</td>\n",
       "      <td>'ASH1L'</td>\n",
       "    </tr>\n",
       "    <tr>\n",
       "      <th>4</th>\n",
       "      <td>3.5446459102227196e-9</td>\n",
       "      <td>'REST'</td>\n",
       "      <td>'EP300'</td>\n",
       "      <td>'ASH1L'</td>\n",
       "    </tr>\n",
       "    <tr>\n",
       "      <th>...</th>\n",
       "      <td>...</td>\n",
       "      <td>...</td>\n",
       "      <td>...</td>\n",
       "      <td>...</td>\n",
       "    </tr>\n",
       "    <tr>\n",
       "      <th>8729711</th>\n",
       "      <td>0.00013909494863863808</td>\n",
       "      <td>'ATOH1'</td>\n",
       "      <td>'KLK12'</td>\n",
       "      <td>'KLK13'</td>\n",
       "    </tr>\n",
       "    <tr>\n",
       "      <th>8729712</th>\n",
       "      <td>0.0001411908810974146</td>\n",
       "      <td>'NTM'</td>\n",
       "      <td>'CORIN'</td>\n",
       "      <td>'NETO1'</td>\n",
       "    </tr>\n",
       "    <tr>\n",
       "      <th>8729713</th>\n",
       "      <td>0.00017290424727726378</td>\n",
       "      <td>'NCAM2'</td>\n",
       "      <td>'NETO1'</td>\n",
       "      <td>'CORIN'</td>\n",
       "    </tr>\n",
       "    <tr>\n",
       "      <th>8729714</th>\n",
       "      <td>0.00019639659040128664</td>\n",
       "      <td>'ZFP37'</td>\n",
       "      <td>'WDR17'</td>\n",
       "      <td>'ZDBF2'</td>\n",
       "    </tr>\n",
       "    <tr>\n",
       "      <th>8729715</th>\n",
       "      <td>0.00030965795673122535</td>\n",
       "      <td>'DST'</td>\n",
       "      <td>'CSMD3'</td>\n",
       "      <td>'MACROD2'</td>\n",
       "    </tr>\n",
       "  </tbody>\n",
       "</table>\n",
       "<p>8729716 rows × 4 columns</p>\n",
       "</div>"
      ],
      "text/plain": [
       "                    path_weight     gene1    gene2      gene3\n",
       "0          3.532108261764894e-9   'NCOR2'  'EP300'    'ASH1L'\n",
       "1          3.544216300998304e-9  'CABIN1'  'EP300'    'ASH1L'\n",
       "2          3.544216300998304e-9    'RFX7'  'EP300'    'ASH1L'\n",
       "3         3.5445925297855654e-9   'AXIN2'  'EP300'    'ASH1L'\n",
       "4         3.5446459102227196e-9    'REST'  'EP300'    'ASH1L'\n",
       "...                         ...       ...      ...        ...\n",
       "8729711  0.00013909494863863808   'ATOH1'  'KLK12'    'KLK13'\n",
       "8729712   0.0001411908810974146     'NTM'  'CORIN'    'NETO1'\n",
       "8729713  0.00017290424727726378   'NCAM2'  'NETO1'    'CORIN'\n",
       "8729714  0.00019639659040128664   'ZFP37'  'WDR17'    'ZDBF2'\n",
       "8729715  0.00030965795673122535     'DST'  'CSMD3'  'MACROD2'\n",
       "\n",
       "[8729716 rows x 4 columns]"
      ]
     },
     "execution_count": 40,
     "metadata": {},
     "output_type": "execute_result"
    }
   ],
   "source": [
    "df_non_aggr = ParseDataframe(df_non_aggr)\n",
    "df_non_aggr"
   ]
  },
  {
   "cell_type": "code",
   "execution_count": 9,
   "id": "c610d8c0",
   "metadata": {},
   "outputs": [
    {
     "name": "stdout",
     "output_type": "stream",
     "text": [
      "0.6645333333333333\n"
     ]
    }
   ],
   "source": [
    "gene1 = df_non_aggr['gene1'].tolist()\n",
    "gene2 = df_non_aggr['gene2'].tolist()\n",
    "gene3 = df_non_aggr['gene3'].tolist()\n",
    "df_non_aggr_edges = pd.DataFrame(columns = ['Node1', 'Node2'])\n",
    "for i in range(10000):\n",
    "    G = []\n",
    "    G.append(gene1[i])\n",
    "    G.append(gene2[i])\n",
    "    G.append(gene3[i])\n",
    "    G = sorted(G)\n",
    "    df_non_aggr_edges.loc[len(df_non_aggr_edges)] = [G[0],G[1]]\n",
    "    df_non_aggr_edges.loc[len(df_non_aggr_edges)] = [G[1],G[2]]\n",
    "    df_non_aggr_edges.loc[len(df_non_aggr_edges)] = [G[0],G[2]] \n",
    "df_non_aggr_edges = df_non_aggr_edges.drop_duplicates()\n",
    "correction_factor_weighted_paths_non_aggr = (df_non_aggr_edges.size/10000)/3\n",
    "print(correction_factor_weighted_paths_non_aggr)"
   ]
  },
  {
   "cell_type": "code",
   "execution_count": 48,
   "id": "111162d7",
   "metadata": {},
   "outputs": [],
   "source": [
    "df_ranking_aggr = pd.read_csv(ranking_file_aggr,sep='[',skiprows=0,header=None)\n",
    "df_ranking_non_aggr = pd.read_csv(ranking_file_non_aggr,sep='[',skiprows=0,header=None)"
   ]
  },
  {
   "cell_type": "code",
   "execution_count": 49,
   "id": "68c44989",
   "metadata": {},
   "outputs": [],
   "source": [
    "ranking_genes_aggr = df_ranking_aggr[0].values.tolist()\n",
    "ranking_genes_non_aggr = df_ranking_non_aggr[0].values.tolist()\n",
    "df_ranking_top_aggr = df_ranking_aggr[0:N_aggr]\n",
    "df_ranking_top_non_aggr = df_ranking_non_aggr[0:N_non_aggr]\n",
    "top_genes_aggr = df_ranking_top_aggr[0].values.tolist()\n",
    "top_genes_non_aggr = df_ranking_top_non_aggr[0].values.tolist()\n",
    "top_genes2_aggr = []\n",
    "top_genes2_non_aggr = []\n",
    "for i in top_genes_aggr:\n",
    "    a = '\\''+i+'\\''\n",
    "    top_genes2_aggr.append(a)\n",
    "for i in top_genes_non_aggr:\n",
    "    a = '\\''+i+'\\''\n",
    "    top_genes2_non_aggr.append(a)"
   ]
  },
  {
   "cell_type": "code",
   "execution_count": 50,
   "id": "2149cf5d",
   "metadata": {},
   "outputs": [],
   "source": [
    "top_genes_together = []\n",
    "top_genes_overlap = []\n",
    "for i in top_genes_aggr:\n",
    "    top_genes_together.append(i)\n",
    "for i in top_genes_non_aggr:\n",
    "    if i not in top_genes_together:\n",
    "        top_genes_together.append(i)\n",
    "    else:\n",
    "        top_genes_overlap.append(i)\n",
    "        \n",
    "top_genes2_together = []\n",
    "top_genes2_overlap = []\n",
    "for i in top_genes2_aggr:\n",
    "    top_genes2_together.append(i)\n",
    "for i in top_genes2_non_aggr:\n",
    "    if i not in top_genes2_together:\n",
    "        top_genes2_together.append(i)\n",
    "    else:\n",
    "        top_genes2_overlap.append(i)"
   ]
  },
  {
   "cell_type": "code",
   "execution_count": 51,
   "id": "445bf681",
   "metadata": {},
   "outputs": [
    {
     "name": "stdout",
     "output_type": "stream",
     "text": [
      "100\n",
      "100\n",
      "189\n",
      "11\n"
     ]
    },
    {
     "data": {
      "text/plain": [
       "['TP53',\n",
       " 'FAT2',\n",
       " 'PLCB4',\n",
       " 'PCDH10',\n",
       " 'COL11A1',\n",
       " 'FAT4',\n",
       " 'KMT2D',\n",
       " 'DST',\n",
       " 'DYNC1H1',\n",
       " 'RYR1',\n",
       " 'MED12']"
      ]
     },
     "execution_count": 51,
     "metadata": {},
     "output_type": "execute_result"
    }
   ],
   "source": [
    "print(len(top_genes_aggr))\n",
    "print(len(top_genes_non_aggr))\n",
    "print(len(top_genes_together))\n",
    "print(len(top_genes_overlap))\n",
    "top_genes_overlap"
   ]
  },
  {
   "cell_type": "code",
   "execution_count": 14,
   "id": "95903d5f",
   "metadata": {},
   "outputs": [
    {
     "data": {
      "text/html": [
       "<div>\n",
       "<style scoped>\n",
       "    .dataframe tbody tr th:only-of-type {\n",
       "        vertical-align: middle;\n",
       "    }\n",
       "\n",
       "    .dataframe tbody tr th {\n",
       "        vertical-align: top;\n",
       "    }\n",
       "\n",
       "    .dataframe thead th {\n",
       "        text-align: right;\n",
       "    }\n",
       "</style>\n",
       "<table border=\"1\" class=\"dataframe\">\n",
       "  <thead>\n",
       "    <tr style=\"text-align: right;\">\n",
       "      <th></th>\n",
       "      <th>path_weight</th>\n",
       "      <th>gene1</th>\n",
       "      <th>gene2</th>\n",
       "      <th>gene3</th>\n",
       "    </tr>\n",
       "  </thead>\n",
       "  <tbody>\n",
       "    <tr>\n",
       "      <th>0</th>\n",
       "      <td>1.7322998022917186e-8</td>\n",
       "      <td>'PAX6'</td>\n",
       "      <td>'EP300'</td>\n",
       "      <td>'TP53'</td>\n",
       "    </tr>\n",
       "    <tr>\n",
       "      <th>1</th>\n",
       "      <td>1.7323238772186547e-8</td>\n",
       "      <td>'IL24'</td>\n",
       "      <td>'EP300'</td>\n",
       "      <td>'TP53'</td>\n",
       "    </tr>\n",
       "    <tr>\n",
       "      <th>2</th>\n",
       "      <td>1.7324057976133982e-8</td>\n",
       "      <td>'TFDP1'</td>\n",
       "      <td>'EP300'</td>\n",
       "      <td>'TP53'</td>\n",
       "    </tr>\n",
       "    <tr>\n",
       "      <th>3</th>\n",
       "      <td>1.7324695284240434e-8</td>\n",
       "      <td>'KDM6A'</td>\n",
       "      <td>'EP300'</td>\n",
       "      <td>'TP53'</td>\n",
       "    </tr>\n",
       "    <tr>\n",
       "      <th>4</th>\n",
       "      <td>1.7326760615258647e-8</td>\n",
       "      <td>'RUNX3'</td>\n",
       "      <td>'EP300'</td>\n",
       "      <td>'TP53'</td>\n",
       "    </tr>\n",
       "    <tr>\n",
       "      <th>...</th>\n",
       "      <td>...</td>\n",
       "      <td>...</td>\n",
       "      <td>...</td>\n",
       "      <td>...</td>\n",
       "    </tr>\n",
       "    <tr>\n",
       "      <th>1009530</th>\n",
       "      <td>1.8673765199666813e-5</td>\n",
       "      <td>'FOS'</td>\n",
       "      <td>'ESR1'</td>\n",
       "      <td>'OLFML3'</td>\n",
       "    </tr>\n",
       "    <tr>\n",
       "      <th>1009697</th>\n",
       "      <td>1.8673765199666813e-5</td>\n",
       "      <td>'PRKACA'</td>\n",
       "      <td>'ESR1'</td>\n",
       "      <td>'OLFML3'</td>\n",
       "    </tr>\n",
       "    <tr>\n",
       "      <th>1009796</th>\n",
       "      <td>1.886097305151144e-5</td>\n",
       "      <td>'EP300'</td>\n",
       "      <td>'ESR1'</td>\n",
       "      <td>'OLFML3'</td>\n",
       "    </tr>\n",
       "    <tr>\n",
       "      <th>1009816</th>\n",
       "      <td>1.8910788922480912e-5</td>\n",
       "      <td>'TP53'</td>\n",
       "      <td>'FOS'</td>\n",
       "      <td>'GGT5'</td>\n",
       "    </tr>\n",
       "    <tr>\n",
       "      <th>1010292</th>\n",
       "      <td>2.0901384317886565e-5</td>\n",
       "      <td>'TP53'</td>\n",
       "      <td>'ATM'</td>\n",
       "      <td>'USP30'</td>\n",
       "    </tr>\n",
       "  </tbody>\n",
       "</table>\n",
       "<p>4548 rows × 4 columns</p>\n",
       "</div>"
      ],
      "text/plain": [
       "                   path_weight     gene1    gene2     gene3\n",
       "0        1.7322998022917186e-8    'PAX6'  'EP300'    'TP53'\n",
       "1        1.7323238772186547e-8    'IL24'  'EP300'    'TP53'\n",
       "2        1.7324057976133982e-8   'TFDP1'  'EP300'    'TP53'\n",
       "3        1.7324695284240434e-8   'KDM6A'  'EP300'    'TP53'\n",
       "4        1.7326760615258647e-8   'RUNX3'  'EP300'    'TP53'\n",
       "...                        ...       ...      ...       ...\n",
       "1009530  1.8673765199666813e-5     'FOS'   'ESR1'  'OLFML3'\n",
       "1009697  1.8673765199666813e-5  'PRKACA'   'ESR1'  'OLFML3'\n",
       "1009796   1.886097305151144e-5   'EP300'   'ESR1'  'OLFML3'\n",
       "1009816  1.8910788922480912e-5    'TP53'    'FOS'    'GGT5'\n",
       "1010292  2.0901384317886565e-5    'TP53'    'ATM'   'USP30'\n",
       "\n",
       "[4548 rows x 4 columns]"
      ]
     },
     "execution_count": 14,
     "metadata": {},
     "output_type": "execute_result"
    }
   ],
   "source": [
    "df_final_aggr = df_aggr[(df_aggr['gene1'].isin(top_genes2_overlap) & df_aggr['gene2'].isin(top_genes2_overlap)) | (df_aggr['gene1'].isin(top_genes2_overlap) & df_aggr['gene3'].isin(top_genes2_overlap))|(df_aggr['gene2'].isin(top_genes2_overlap) & df_aggr['gene3'].isin(top_genes2_overlap))]\n",
    "df_final_aggr"
   ]
  },
  {
   "cell_type": "code",
   "execution_count": 15,
   "id": "1bebd0fd",
   "metadata": {},
   "outputs": [
    {
     "data": {
      "text/html": [
       "<div>\n",
       "<style scoped>\n",
       "    .dataframe tbody tr th:only-of-type {\n",
       "        vertical-align: middle;\n",
       "    }\n",
       "\n",
       "    .dataframe tbody tr th {\n",
       "        vertical-align: top;\n",
       "    }\n",
       "\n",
       "    .dataframe thead th {\n",
       "        text-align: right;\n",
       "    }\n",
       "</style>\n",
       "<table border=\"1\" class=\"dataframe\">\n",
       "  <thead>\n",
       "    <tr style=\"text-align: right;\">\n",
       "      <th></th>\n",
       "      <th>path_weight</th>\n",
       "      <th>gene1</th>\n",
       "      <th>gene2</th>\n",
       "      <th>gene3</th>\n",
       "    </tr>\n",
       "  </thead>\n",
       "  <tbody>\n",
       "    <tr>\n",
       "      <th>430</th>\n",
       "      <td>4.8040110023523045e-9</td>\n",
       "      <td>'FOS'</td>\n",
       "      <td>'EP300'</td>\n",
       "      <td>'FOXA1'</td>\n",
       "    </tr>\n",
       "    <tr>\n",
       "      <th>934</th>\n",
       "      <td>4.804673298106619e-9</td>\n",
       "      <td>'PRKACA'</td>\n",
       "      <td>'EP300'</td>\n",
       "      <td>'FOXA1'</td>\n",
       "    </tr>\n",
       "    <tr>\n",
       "      <th>1852</th>\n",
       "      <td>4.946908221369293e-9</td>\n",
       "      <td>'PRKACA'</td>\n",
       "      <td>'GNB1'</td>\n",
       "      <td>'PLCB4'</td>\n",
       "    </tr>\n",
       "    <tr>\n",
       "      <th>2182</th>\n",
       "      <td>4.976110178817096e-9</td>\n",
       "      <td>'FOS'</td>\n",
       "      <td>'EP300'</td>\n",
       "      <td>'CDH1'</td>\n",
       "    </tr>\n",
       "    <tr>\n",
       "      <th>2700</th>\n",
       "      <td>4.978884648937693e-9</td>\n",
       "      <td>'PRKACA'</td>\n",
       "      <td>'EP300'</td>\n",
       "      <td>'CDH1'</td>\n",
       "    </tr>\n",
       "    <tr>\n",
       "      <th>...</th>\n",
       "      <td>...</td>\n",
       "      <td>...</td>\n",
       "      <td>...</td>\n",
       "      <td>...</td>\n",
       "    </tr>\n",
       "    <tr>\n",
       "      <th>5383882</th>\n",
       "      <td>2.2553288772602342e-6</td>\n",
       "      <td>'FOS'</td>\n",
       "      <td>'ESR1'</td>\n",
       "      <td>'MN1'</td>\n",
       "    </tr>\n",
       "    <tr>\n",
       "      <th>5384162</th>\n",
       "      <td>2.2576731286464385e-6</td>\n",
       "      <td>'PRKACA'</td>\n",
       "      <td>'ESR1'</td>\n",
       "      <td>'MN1'</td>\n",
       "    </tr>\n",
       "    <tr>\n",
       "      <th>5386439</th>\n",
       "      <td>2.3375914190094742e-6</td>\n",
       "      <td>'TP53'</td>\n",
       "      <td>'ATM'</td>\n",
       "      <td>'USP30'</td>\n",
       "    </tr>\n",
       "    <tr>\n",
       "      <th>5387337</th>\n",
       "      <td>2.3983902925330054e-6</td>\n",
       "      <td>'TP53'</td>\n",
       "      <td>'ATM'</td>\n",
       "      <td>'TAOK2'</td>\n",
       "    </tr>\n",
       "    <tr>\n",
       "      <th>5389981</th>\n",
       "      <td>2.485706510058984e-6</td>\n",
       "      <td>'EP300'</td>\n",
       "      <td>'ESR1'</td>\n",
       "      <td>'MN1'</td>\n",
       "    </tr>\n",
       "  </tbody>\n",
       "</table>\n",
       "<p>3543 rows × 4 columns</p>\n",
       "</div>"
      ],
      "text/plain": [
       "                   path_weight     gene1    gene2    gene3\n",
       "430      4.8040110023523045e-9     'FOS'  'EP300'  'FOXA1'\n",
       "934       4.804673298106619e-9  'PRKACA'  'EP300'  'FOXA1'\n",
       "1852      4.946908221369293e-9  'PRKACA'   'GNB1'  'PLCB4'\n",
       "2182      4.976110178817096e-9     'FOS'  'EP300'   'CDH1'\n",
       "2700      4.978884648937693e-9  'PRKACA'  'EP300'   'CDH1'\n",
       "...                        ...       ...      ...      ...\n",
       "5383882  2.2553288772602342e-6     'FOS'   'ESR1'    'MN1'\n",
       "5384162  2.2576731286464385e-6  'PRKACA'   'ESR1'    'MN1'\n",
       "5386439  2.3375914190094742e-6    'TP53'    'ATM'  'USP30'\n",
       "5387337  2.3983902925330054e-6    'TP53'    'ATM'  'TAOK2'\n",
       "5389981   2.485706510058984e-6   'EP300'   'ESR1'    'MN1'\n",
       "\n",
       "[3543 rows x 4 columns]"
      ]
     },
     "execution_count": 15,
     "metadata": {},
     "output_type": "execute_result"
    }
   ],
   "source": [
    "df_final_non_aggr = df_non_aggr[(df_non_aggr['gene1'].isin(top_genes2_overlap) & df_non_aggr['gene2'].isin(top_genes2_overlap)) | (df_non_aggr['gene1'].isin(top_genes2_overlap) & df_non_aggr['gene3'].isin(top_genes2_overlap)) | (df_non_aggr['gene2'].isin(top_genes2_overlap) & df_non_aggr['gene3'].isin(top_genes2_overlap))]\n",
    "df_final_non_aggr"
   ]
  },
  {
   "cell_type": "code",
   "execution_count": 16,
   "id": "35f4b3c5",
   "metadata": {},
   "outputs": [],
   "source": [
    "def calculateEdges(df,df_final,top_genes,top_genes2,weighted,weight):\n",
    "    edges = {}\n",
    "    Normalization = sum(df['path_weight'].astype(float)) # Explained in the paper of OMEN\n",
    "    for i in range(len(top_genes)):\n",
    "        print(i)\n",
    "        for j in range(len(top_genes)-1-i):\n",
    "            node1 = top_genes[i]\n",
    "            node2 = top_genes[i+1+j]\n",
    "            nodes = []\n",
    "            nodes.append(top_genes2[i])\n",
    "            nodes.append(top_genes2[i+1+j])\n",
    "            df_edge = df_final[ (df_final['gene1'].isin(nodes) & df_final['gene2'].isin(nodes)) | (df_final['gene1'].isin(nodes) & df_final['gene3'].isin(nodes)) | (df_final['gene2'].isin(nodes) & df_final['gene3'].isin(nodes))]\n",
    "            s = sum(df_edge['path_weight'].astype(float))/Normalization\n",
    "            if s>0:\n",
    "                if weighted:\n",
    "                    edges[(node1,node2)] = s*weight\n",
    "                else:\n",
    "                    edges[(node1,node2)] = s*100000 # to have bigger values, because they are small probabilities                \n",
    "    return edges "
   ]
  },
  {
   "cell_type": "code",
   "execution_count": 17,
   "id": "38ccf52f",
   "metadata": {},
   "outputs": [
    {
     "name": "stdout",
     "output_type": "stream",
     "text": [
      "0\n",
      "1\n",
      "2\n",
      "3\n",
      "4\n",
      "5\n",
      "6\n",
      "7\n",
      "8\n"
     ]
    }
   ],
   "source": [
    "edges_aggr = calculateEdges(df_aggr,df_final_aggr,top_genes_overlap,top_genes2_overlap,True,df_aggr.size*correction_factor_weighted_paths_aggr)"
   ]
  },
  {
   "cell_type": "code",
   "execution_count": 18,
   "id": "b708dd0c",
   "metadata": {},
   "outputs": [
    {
     "name": "stdout",
     "output_type": "stream",
     "text": [
      "0\n",
      "1\n",
      "2\n",
      "3\n",
      "4\n",
      "5\n",
      "6\n",
      "7\n",
      "8\n"
     ]
    }
   ],
   "source": [
    "edges_non_aggr = calculateEdges(df_non_aggr,df_final_non_aggr,top_genes_overlap,top_genes2_overlap,True,df_non_aggr.size*correction_factor_weighted_paths_non_aggr)"
   ]
  },
  {
   "cell_type": "code",
   "execution_count": 19,
   "id": "2cf53fef",
   "metadata": {},
   "outputs": [
    {
     "data": {
      "text/plain": [
       "{('EP300', 'TP53'): 804.5199915516906,\n",
       " ('EP300', 'ESR1'): 66.17106449111482,\n",
       " ('EP300', 'PRKACA'): 24.340599847350013,\n",
       " ('EP300', 'ATM'): 82.36976960630147,\n",
       " ('EP300', 'FOS'): 70.18933542552196,\n",
       " ('EP300', 'PLCB4'): 16.336928994460788,\n",
       " ('EP300', 'ACTG1'): 63.70383354304096,\n",
       " ('EP300', 'HSPA8'): 405.93752522595776,\n",
       " ('TP53', 'ESR1'): 165.96474333208715,\n",
       " ('TP53', 'PRKACA'): 21.96087685331126,\n",
       " ('TP53', 'ATM'): 1002.897667392125,\n",
       " ('TP53', 'FOS'): 674.64395431522,\n",
       " ('TP53', 'PLCB4'): 6.4427080262551515,\n",
       " ('TP53', 'ACTG1'): 16.595844421281875,\n",
       " ('TP53', 'HSPA8'): 14.718433867379028,\n",
       " ('ESR1', 'PRKACA'): 67.64634680112935,\n",
       " ('ESR1', 'ATM'): 28.53250849509429,\n",
       " ('ESR1', 'FOS'): 112.21731473541317,\n",
       " ('ESR1', 'PLCB4'): 9.469167054702549,\n",
       " ('ESR1', 'ACTG1'): 4.535857812372507,\n",
       " ('ESR1', 'HSPA8'): 30.474488388358726,\n",
       " ('PRKACA', 'ATM'): 4.055298588236198,\n",
       " ('PRKACA', 'FOS'): 73.03116066916049,\n",
       " ('PRKACA', 'PLCB4'): 29.070898731083318,\n",
       " ('PRKACA', 'ACTG1'): 14.424798458760971,\n",
       " ('PRKACA', 'HSPA8'): 5.639587196101655,\n",
       " ('ATM', 'FOS'): 13.01883304584128,\n",
       " ('ATM', 'HSPA8'): 32.60180890823603,\n",
       " ('FOS', 'PLCB4'): 12.036520929252921,\n",
       " ('FOS', 'ACTG1'): 15.278422444979777,\n",
       " ('FOS', 'HSPA8'): 6.618254446160237,\n",
       " ('PLCB4', 'ACTG1'): 19.063655387046445,\n",
       " ('PLCB4', 'HSPA8'): 12.609099335576811,\n",
       " ('ACTG1', 'HSPA8'): 13.254791929800163}"
      ]
     },
     "execution_count": 19,
     "metadata": {},
     "output_type": "execute_result"
    }
   ],
   "source": [
    "edges_aggr"
   ]
  },
  {
   "cell_type": "code",
   "execution_count": 20,
   "id": "0456ac06",
   "metadata": {},
   "outputs": [
    {
     "data": {
      "text/plain": [
       "{('EP300', 'TP53'): 1120.4911333326397,\n",
       " ('EP300', 'ESR1'): 962.5960173129763,\n",
       " ('EP300', 'PRKACA'): 675.7352257707206,\n",
       " ('EP300', 'ATM'): 65.46966671259281,\n",
       " ('EP300', 'FOS'): 819.9230104113497,\n",
       " ('EP300', 'PLCB4'): 9.742275324580064,\n",
       " ('EP300', 'HSPA8'): 618.4378576079184,\n",
       " ('TP53', 'ATM'): 1162.8860925307893,\n",
       " ('TP53', 'FOS'): 1010.2103663559582,\n",
       " ('TP53', 'PLCB4'): 3.2856484502645675,\n",
       " ('ESR1', 'PRKACA'): 610.004996593943,\n",
       " ('ESR1', 'ATM'): 15.346900303278806,\n",
       " ('ESR1', 'FOS'): 752.8134723634016,\n",
       " ('ESR1', 'PLCB4'): 4.830848924309778,\n",
       " ('PRKACA', 'ATM'): 2.8938357609331673,\n",
       " ('PRKACA', 'FOS'): 180.75846742822566,\n",
       " ('PRKACA', 'PLCB4'): 21.378046678712046,\n",
       " ('ATM', 'FOS'): 9.285675022491635,\n",
       " ('ATM', 'HSPA8'): 16.49746854595594,\n",
       " ('FOS', 'PLCB4'): 7.141565260015124,\n",
       " ('PLCB4', 'ACTG1'): 7.331987243652889,\n",
       " ('PLCB4', 'HSPA8'): 6.1441098690979405}"
      ]
     },
     "execution_count": 20,
     "metadata": {},
     "output_type": "execute_result"
    }
   ],
   "source": [
    "edges_non_aggr"
   ]
  },
  {
   "cell_type": "code",
   "execution_count": 21,
   "id": "df46735b",
   "metadata": {},
   "outputs": [
    {
     "name": "stdout",
     "output_type": "stream",
     "text": [
      "34\n",
      "22\n"
     ]
    }
   ],
   "source": [
    "print(len(edges_aggr))\n",
    "print(len(edges_non_aggr))"
   ]
  },
  {
   "cell_type": "code",
   "execution_count": 22,
   "id": "3428dc99",
   "metadata": {},
   "outputs": [
    {
     "name": "stdout",
     "output_type": "stream",
     "text": [
      "Aggressive:\n",
      "34\n",
      "3940.372090250405\n",
      "115.89329677207074\n",
      "Non-aggressive:\n",
      "22\n",
      "8083.204667803807\n",
      "367.41839399108216\n"
     ]
    }
   ],
   "source": [
    "sum_edges_aggr = 0\n",
    "sum_edges_non_aggr = 0\n",
    "for i in edges_aggr:\n",
    "    sum_edges_aggr = sum_edges_aggr + edges_aggr[i]\n",
    "for i in edges_non_aggr:\n",
    "    sum_edges_non_aggr = sum_edges_non_aggr + edges_non_aggr[i]\n",
    "print('Aggressive:')\n",
    "print(len(edges_aggr))\n",
    "print(sum_edges_aggr)\n",
    "print(sum_edges_aggr/len(edges_aggr))\n",
    "print('Non-aggressive:')\n",
    "print(len(edges_non_aggr))\n",
    "print(sum_edges_non_aggr)\n",
    "print(sum_edges_non_aggr/len(edges_non_aggr))"
   ]
  },
  {
   "cell_type": "code",
   "execution_count": 23,
   "id": "d564af81",
   "metadata": {},
   "outputs": [
    {
     "data": {
      "image/png": "[encoded data removed]",
      "text/plain": [
       "<Figure size 640x480 with 1 Axes>"
      ]
     },
     "metadata": {},
     "output_type": "display_data"
    }
   ],
   "source": [
    "edge_aggr_weights = list(edges_aggr.values())\n",
    "edge_non_aggr_weights = list(edges_non_aggr.values())\n",
    "plt.hist(edge_aggr_weights,bins=20,range=[0,1000],edgecolor='blue',fill=False,label='aggressive')\n",
    "plt.hist(edge_non_aggr_weights,bins=20,range=[0,1000],edgecolor='orange',fill=False,label='non-aggressive')\n",
    "plt.xlabel('Edge weight')\n",
    "plt.ylabel('Number of edges')\n",
    "plt.legend()\n",
    "plt.savefig('Density_edge_weight_100_100_weighted_overlap.png')"
   ]
  },
  {
   "cell_type": "code",
   "execution_count": 24,
   "id": "e160c913",
   "metadata": {},
   "outputs": [
    {
     "name": "stdout",
     "output_type": "stream",
     "text": [
      "34\n"
     ]
    },
    {
     "data": {
      "text/plain": [
       "{('EP300', 'TP53'): -315.9711417809491,\n",
       " ('EP300', 'ESR1'): -896.4249528218614,\n",
       " ('EP300', 'PRKACA'): -651.3946259233705,\n",
       " ('EP300', 'ATM'): 16.900102893708663,\n",
       " ('EP300', 'FOS'): -749.7336749858277,\n",
       " ('EP300', 'PLCB4'): 6.594653669880724,\n",
       " ('EP300', 'ACTG1'): 63.70383354304096,\n",
       " ('EP300', 'HSPA8'): -212.50033238196067,\n",
       " ('TP53', 'ESR1'): 165.96474333208715,\n",
       " ('TP53', 'PRKACA'): 21.96087685331126,\n",
       " ('TP53', 'ATM'): -159.9884251386643,\n",
       " ('TP53', 'FOS'): -335.5664120407382,\n",
       " ('TP53', 'PLCB4'): 3.157059575990584,\n",
       " ('TP53', 'ACTG1'): 16.595844421281875,\n",
       " ('TP53', 'HSPA8'): 14.718433867379028,\n",
       " ('ESR1', 'PRKACA'): -542.3586497928137,\n",
       " ('ESR1', 'ATM'): 13.185608191815485,\n",
       " ('ESR1', 'FOS'): -640.5961576279884,\n",
       " ('ESR1', 'PLCB4'): 4.638318130392771,\n",
       " ('ESR1', 'ACTG1'): 4.535857812372507,\n",
       " ('ESR1', 'HSPA8'): 30.474488388358726,\n",
       " ('PRKACA', 'ATM'): 1.1614628273030307,\n",
       " ('PRKACA', 'FOS'): -107.72730675906517,\n",
       " ('PRKACA', 'PLCB4'): 7.692852052371272,\n",
       " ('PRKACA', 'ACTG1'): 14.424798458760971,\n",
       " ('PRKACA', 'HSPA8'): 5.639587196101655,\n",
       " ('ATM', 'FOS'): 3.7331580233496453,\n",
       " ('ATM', 'HSPA8'): 16.10434036228009,\n",
       " ('FOS', 'PLCB4'): 4.894955669237797,\n",
       " ('FOS', 'ACTG1'): 15.278422444979777,\n",
       " ('FOS', 'HSPA8'): 6.618254446160237,\n",
       " ('PLCB4', 'ACTG1'): 11.731668143393556,\n",
       " ('PLCB4', 'HSPA8'): 6.464989466478871,\n",
       " ('ACTG1', 'HSPA8'): 13.254791929800163}"
      ]
     },
     "execution_count": 24,
     "metadata": {},
     "output_type": "execute_result"
    }
   ],
   "source": [
    "edges_difference_weight = {} # weight = weight aggressive - weight non-aggressive\n",
    "with open('overview_edge_weights_subnetwork_0.65_difference_aggr_non_aggr_'+str(N_aggr)+'_'+str(N_non_aggr)+'weighted'+'_overlap', 'w') as f:\n",
    "    f.write('edge  weight_aggr  weight_non_aggr  weight_difference')\n",
    "    f.write('\\n')\n",
    "    for i in edges_aggr:\n",
    "        f.write(str(i)+' '+str(edges_aggr[i])+' ')\n",
    "        if i in edges_non_aggr:\n",
    "            f.write(str(edges_non_aggr[i])+' ')\n",
    "            edges_difference_weight[i] = edges_aggr[i]-edges_non_aggr[i]\n",
    "            f.write(str(edges_difference_weight[i]))\n",
    "            f.write('\\n')\n",
    "        else:\n",
    "            f.write(str('no'+' '))\n",
    "            edges_difference_weight[i] = edges_aggr[i]\n",
    "            f.write(str(edges_difference_weight[i]))\n",
    "            f.write('\\n')\n",
    "    for i in edges_non_aggr:\n",
    "        if i not in edges_difference_weight:\n",
    "            edges_difference_weight[i] = -edges_non_aggr[i]\n",
    "            f.write(str(i)+' no'+' '+str(edges_non_aggr[i])+' '+str(edges_difference_weight[i]))\n",
    "            f.write('\\n')\n",
    "f.close()\n",
    "print(len(edges_difference_weight))\n",
    "edges_difference_weight"
   ]
  },
  {
   "cell_type": "code",
   "execution_count": 25,
   "id": "1a10853b",
   "metadata": {},
   "outputs": [
    {
     "data": {
      "text/html": [
       "<div>\n",
       "<style scoped>\n",
       "    .dataframe tbody tr th:only-of-type {\n",
       "        vertical-align: middle;\n",
       "    }\n",
       "\n",
       "    .dataframe tbody tr th {\n",
       "        vertical-align: top;\n",
       "    }\n",
       "\n",
       "    .dataframe thead th {\n",
       "        text-align: right;\n",
       "    }\n",
       "</style>\n",
       "<table border=\"1\" class=\"dataframe\">\n",
       "  <thead>\n",
       "    <tr style=\"text-align: right;\">\n",
       "      <th></th>\n",
       "      <th>Difference</th>\n",
       "    </tr>\n",
       "  </thead>\n",
       "  <tbody>\n",
       "    <tr>\n",
       "      <th>(TP53, ESR1)</th>\n",
       "      <td>165.964743</td>\n",
       "    </tr>\n",
       "    <tr>\n",
       "      <th>(EP300, ACTG1)</th>\n",
       "      <td>63.703834</td>\n",
       "    </tr>\n",
       "    <tr>\n",
       "      <th>(ESR1, HSPA8)</th>\n",
       "      <td>30.474488</td>\n",
       "    </tr>\n",
       "    <tr>\n",
       "      <th>(TP53, PRKACA)</th>\n",
       "      <td>21.960877</td>\n",
       "    </tr>\n",
       "    <tr>\n",
       "      <th>(EP300, ATM)</th>\n",
       "      <td>16.900103</td>\n",
       "    </tr>\n",
       "    <tr>\n",
       "      <th>(TP53, ACTG1)</th>\n",
       "      <td>16.595844</td>\n",
       "    </tr>\n",
       "    <tr>\n",
       "      <th>(ATM, HSPA8)</th>\n",
       "      <td>16.104340</td>\n",
       "    </tr>\n",
       "    <tr>\n",
       "      <th>(FOS, ACTG1)</th>\n",
       "      <td>15.278422</td>\n",
       "    </tr>\n",
       "    <tr>\n",
       "      <th>(TP53, HSPA8)</th>\n",
       "      <td>14.718434</td>\n",
       "    </tr>\n",
       "    <tr>\n",
       "      <th>(PRKACA, ACTG1)</th>\n",
       "      <td>14.424798</td>\n",
       "    </tr>\n",
       "    <tr>\n",
       "      <th>(ACTG1, HSPA8)</th>\n",
       "      <td>13.254792</td>\n",
       "    </tr>\n",
       "    <tr>\n",
       "      <th>(ESR1, ATM)</th>\n",
       "      <td>13.185608</td>\n",
       "    </tr>\n",
       "    <tr>\n",
       "      <th>(PLCB4, ACTG1)</th>\n",
       "      <td>11.731668</td>\n",
       "    </tr>\n",
       "    <tr>\n",
       "      <th>(PRKACA, PLCB4)</th>\n",
       "      <td>7.692852</td>\n",
       "    </tr>\n",
       "    <tr>\n",
       "      <th>(FOS, HSPA8)</th>\n",
       "      <td>6.618254</td>\n",
       "    </tr>\n",
       "    <tr>\n",
       "      <th>(EP300, PLCB4)</th>\n",
       "      <td>6.594654</td>\n",
       "    </tr>\n",
       "    <tr>\n",
       "      <th>(PLCB4, HSPA8)</th>\n",
       "      <td>6.464989</td>\n",
       "    </tr>\n",
       "    <tr>\n",
       "      <th>(PRKACA, HSPA8)</th>\n",
       "      <td>5.639587</td>\n",
       "    </tr>\n",
       "    <tr>\n",
       "      <th>(FOS, PLCB4)</th>\n",
       "      <td>4.894956</td>\n",
       "    </tr>\n",
       "    <tr>\n",
       "      <th>(ESR1, PLCB4)</th>\n",
       "      <td>4.638318</td>\n",
       "    </tr>\n",
       "    <tr>\n",
       "      <th>(ESR1, ACTG1)</th>\n",
       "      <td>4.535858</td>\n",
       "    </tr>\n",
       "    <tr>\n",
       "      <th>(ATM, FOS)</th>\n",
       "      <td>3.733158</td>\n",
       "    </tr>\n",
       "    <tr>\n",
       "      <th>(TP53, PLCB4)</th>\n",
       "      <td>3.157060</td>\n",
       "    </tr>\n",
       "    <tr>\n",
       "      <th>(PRKACA, ATM)</th>\n",
       "      <td>1.161463</td>\n",
       "    </tr>\n",
       "    <tr>\n",
       "      <th>(PRKACA, FOS)</th>\n",
       "      <td>-107.727307</td>\n",
       "    </tr>\n",
       "    <tr>\n",
       "      <th>(TP53, ATM)</th>\n",
       "      <td>-159.988425</td>\n",
       "    </tr>\n",
       "    <tr>\n",
       "      <th>(EP300, HSPA8)</th>\n",
       "      <td>-212.500332</td>\n",
       "    </tr>\n",
       "    <tr>\n",
       "      <th>(EP300, TP53)</th>\n",
       "      <td>-315.971142</td>\n",
       "    </tr>\n",
       "    <tr>\n",
       "      <th>(TP53, FOS)</th>\n",
       "      <td>-335.566412</td>\n",
       "    </tr>\n",
       "    <tr>\n",
       "      <th>(ESR1, PRKACA)</th>\n",
       "      <td>-542.358650</td>\n",
       "    </tr>\n",
       "    <tr>\n",
       "      <th>(ESR1, FOS)</th>\n",
       "      <td>-640.596158</td>\n",
       "    </tr>\n",
       "    <tr>\n",
       "      <th>(EP300, PRKACA)</th>\n",
       "      <td>-651.394626</td>\n",
       "    </tr>\n",
       "    <tr>\n",
       "      <th>(EP300, FOS)</th>\n",
       "      <td>-749.733675</td>\n",
       "    </tr>\n",
       "    <tr>\n",
       "      <th>(EP300, ESR1)</th>\n",
       "      <td>-896.424953</td>\n",
       "    </tr>\n",
       "  </tbody>\n",
       "</table>\n",
       "</div>"
      ],
      "text/plain": [
       "                 Difference\n",
       "(TP53, ESR1)     165.964743\n",
       "(EP300, ACTG1)    63.703834\n",
       "(ESR1, HSPA8)     30.474488\n",
       "(TP53, PRKACA)    21.960877\n",
       "(EP300, ATM)      16.900103\n",
       "(TP53, ACTG1)     16.595844\n",
       "(ATM, HSPA8)      16.104340\n",
       "(FOS, ACTG1)      15.278422\n",
       "(TP53, HSPA8)     14.718434\n",
       "(PRKACA, ACTG1)   14.424798\n",
       "(ACTG1, HSPA8)    13.254792\n",
       "(ESR1, ATM)       13.185608\n",
       "(PLCB4, ACTG1)    11.731668\n",
       "(PRKACA, PLCB4)    7.692852\n",
       "(FOS, HSPA8)       6.618254\n",
       "(EP300, PLCB4)     6.594654\n",
       "(PLCB4, HSPA8)     6.464989\n",
       "(PRKACA, HSPA8)    5.639587\n",
       "(FOS, PLCB4)       4.894956\n",
       "(ESR1, PLCB4)      4.638318\n",
       "(ESR1, ACTG1)      4.535858\n",
       "(ATM, FOS)         3.733158\n",
       "(TP53, PLCB4)      3.157060\n",
       "(PRKACA, ATM)      1.161463\n",
       "(PRKACA, FOS)   -107.727307\n",
       "(TP53, ATM)     -159.988425\n",
       "(EP300, HSPA8)  -212.500332\n",
       "(EP300, TP53)   -315.971142\n",
       "(TP53, FOS)     -335.566412\n",
       "(ESR1, PRKACA)  -542.358650\n",
       "(ESR1, FOS)     -640.596158\n",
       "(EP300, PRKACA) -651.394626\n",
       "(EP300, FOS)    -749.733675\n",
       "(EP300, ESR1)   -896.424953"
      ]
     },
     "execution_count": 25,
     "metadata": {},
     "output_type": "execute_result"
    }
   ],
   "source": [
    "df_edges_difference_weight = pd.DataFrame.from_dict(edges_difference_weight,orient='index',columns=['Difference'])\n",
    "df_edges_difference_weight = df_edges_difference_weight.sort_values(by=['Difference'],ascending=False)\n",
    "df_edges_difference_weight"
   ]
  },
  {
   "cell_type": "code",
   "execution_count": 26,
   "id": "a351417d",
   "metadata": {},
   "outputs": [
    {
     "data": {
      "image/png": "[encoded data removed]",
      "text/plain": [
       "<Figure size 640x480 with 1 Axes>"
      ]
     },
     "metadata": {},
     "output_type": "display_data"
    }
   ],
   "source": [
    "differences = list(df_edges_difference_weight['Difference'])\n",
    "plt.hist(differences,bins=100,range=[-1000,1000],color='green')\n",
    "plt.xlabel('Difference in edge weight (aggressive - non_aggressive)')\n",
    "plt.ylabel('Number of differences')\n",
    "plt.savefig('Density_edge_weight_difference_100_100_weighted_overlap.png')"
   ]
  },
  {
   "cell_type": "code",
   "execution_count": 27,
   "id": "b9458021",
   "metadata": {
    "scrolled": true
   },
   "outputs": [
    {
     "data": {
      "image/png": "[encoded data removed]",
      "text/plain": [
       "<Figure size 640x480 with 1 Axes>"
      ]
     },
     "metadata": {},
     "output_type": "display_data"
    }
   ],
   "source": [
    "differences_absolute = []\n",
    "for d in differences:\n",
    "    if d < 0:\n",
    "        differences_absolute.append(-1*d)\n",
    "    else:\n",
    "        differences_absolute.append(d)\n",
    "plt.hist(differences_absolute,bins=100,range=[0,1000],color='green')\n",
    "plt.xlabel('Absolute difference in edge weight (aggressive - non_aggressive)')\n",
    "plt.ylabel('Number of differences')\n",
    "plt.savefig('Density_edge_weight_absolute_difference_100_100_weighted_overlap.png')"
   ]
  },
  {
   "cell_type": "code",
   "execution_count": 35,
   "id": "c5ae1208",
   "metadata": {},
   "outputs": [
    {
     "data": {
      "text/plain": [
       "15.691381403629933"
      ]
     },
     "execution_count": 35,
     "metadata": {},
     "output_type": "execute_result"
    }
   ],
   "source": [
    "filter_value = np.percentile(differences_absolute,50)\n",
    "filter_value"
   ]
  },
  {
   "cell_type": "code",
   "execution_count": 36,
   "id": "44c5ca3c",
   "metadata": {},
   "outputs": [
    {
     "data": {
      "text/plain": [
       "8"
      ]
     },
     "execution_count": 36,
     "metadata": {},
     "output_type": "execute_result"
    }
   ],
   "source": [
    "len(df_edges_difference_weight.loc[(df_edges_difference_weight['Difference'] > filter_value)])+1"
   ]
  },
  {
   "cell_type": "code",
   "execution_count": 37,
   "id": "5adfd637",
   "metadata": {},
   "outputs": [
    {
     "data": {
      "text/plain": [
       "10"
      ]
     },
     "execution_count": 37,
     "metadata": {},
     "output_type": "execute_result"
    }
   ],
   "source": [
    "len(df_edges_difference_weight.loc[(df_edges_difference_weight['Difference'] < -1*filter_value)])"
   ]
  },
  {
   "cell_type": "code",
   "execution_count": 31,
   "id": "13f18e3b",
   "metadata": {},
   "outputs": [],
   "source": [
    "with open(output_file,'w') as f:\n",
    "    f.write('graph = {')\n",
    "    f.write('\\n')\n",
    "    f.write('    nodes: [')\n",
    "    f.write('\\n')\n",
    "    for i in range(len(top_genes_overlap)):\n",
    "        f.write('        {') \n",
    "        f.write('\\n')\n",
    "        f.write('            id: ' + top_genes2_overlap[i] + ',') \n",
    "        f.write('\\n')\n",
    "        try:\n",
    "            f.write('            rank_aggr: ' + str(1+ranking_genes_aggr.index(top_genes_overlap[i])) + ',') \n",
    "        except ValueError:\n",
    "            f.write('            rank_aggr: ' + str(-1) + ',') \n",
    "        f.write('\\n')\n",
    "        try:\n",
    "            f.write('            rank_non_aggr: ' + str(1+ranking_genes_non_aggr.index(top_genes_overlap[i])) + ',') \n",
    "        except ValueError:\n",
    "            f.write('            rank_non_aggr: ' + str(-1) + ',') \n",
    "        f.write('\\n')\n",
    "        f.write('        },') \n",
    "        f.write('\\n')\n",
    "    f.write('    ],')\n",
    "    f.write('\\n')\n",
    "    f.write('    links: [')\n",
    "    f.write('\\n')\n",
    "    for edge in edges_difference_weight:\n",
    "        if edges_difference_weight[edge] > 0:\n",
    "            f.write('        {source: \"'+ edge[0] +'\", target: \"'+edge[1]+'\", type: \"pp_red\", direction: \"directed\", max_cost: '+ str(edges_difference_weight[edge]) +', evidence: \"\"},')\n",
    "        else:\n",
    "            f.write('        {source: \"'+ edge[0] +'\", target: \"'+edge[1]+'\", type: \"pp_blue\", direction: \"directed\", max_cost: '+ str(-1*edges_difference_weight[edge]) +', evidence: \"\"},')\n",
    "        f.write('\\n')\n",
    "    f.write('    ],')\n",
    "    f.write('\\n')\n",
    "    f.write('}')\n",
    "f.close()"
   ]
  },
  {
   "cell_type": "code",
   "execution_count": 32,
   "id": "c72b1510",
   "metadata": {},
   "outputs": [],
   "source": [
    "def componentsFilteredEdges(edges,Filter):\n",
    "    array1 = []\n",
    "    for edge in edges:\n",
    "        if edges[edge]>Filter:\n",
    "            array1.append(edge)\n",
    "    G = nx.Graph()\n",
    "    G.add_edges_from(array1)\n",
    "    r = list(nx.connected_components(G))\n",
    "    return r"
   ]
  },
  {
   "cell_type": "code",
   "execution_count": 33,
   "id": "6f6980cf",
   "metadata": {},
   "outputs": [],
   "source": [
    "def writeComponents(edges,Filters):\n",
    "    edges_pos = {}\n",
    "    edges_neg = {}\n",
    "    for e in edges:\n",
    "        if edges[e]>0:\n",
    "            edges_pos[e] = edges[e]\n",
    "        else:\n",
    "            edges_neg[e] = -1*edges[e]\n",
    "    for f in Filters:\n",
    "        components_pos = componentsFilteredEdges(edges_pos,f)\n",
    "        components_neg = componentsFilteredEdges(edges_neg,f)\n",
    "        file_pos = 'components_stronger_in_aggr_' + str(f)\n",
    "        file_neg = 'components_stronger_in_non_aggr_' + str(f)\n",
    "        with open(output_file_components_directory+file_pos,'w') as f:\n",
    "            i = 1\n",
    "            for c in components_pos:\n",
    "                f.write('Component'+str(i)+': ')\n",
    "                f.write(str(c))\n",
    "                f.write('\\n')\n",
    "                i = i + 1\n",
    "        f.close()\n",
    "        with open(output_file_components_directory+file_neg,'w') as f:\n",
    "            i = 1\n",
    "            for c in components_neg:\n",
    "                f.write('Component'+str(i)+': ')\n",
    "                f.write(str(c))\n",
    "                f.write('\\n')\n",
    "                i = i + 1\n",
    "        f.close()"
   ]
  },
  {
   "cell_type": "code",
   "execution_count": 34,
   "id": "b3b7aa39",
   "metadata": {},
   "outputs": [],
   "source": [
    "path = os.path.join(output_file_components_directory)\n",
    "os.mkdir(path)\n",
    "writeComponents(edges_difference_weight,[0,0.5,1,1.5,2,2.5,3,3.5,4,4.5,5,5.5,6,6.5,7,7.5,8,8.5,9,9.5,10,10.5,11,11.5,12])"
   ]
  },
  {
   "cell_type": "code",
   "execution_count": null,
   "id": "f9b472bc",
   "metadata": {},
   "outputs": [],
   "source": []
  }
 ],
 "metadata": {
  "kernelspec": {
   "display_name": "Python 3 (ipykernel)",
   "language": "python",
   "name": "python3"
  },
  "language_info": {
   "codemirror_mode": {
    "name": "ipython",
    "version": 3
   },
   "file_extension": ".py",
   "mimetype": "text/x-python",
   "name": "python",
   "nbconvert_exporter": "python",
   "pygments_lexer": "ipython3",
   "version": "3.10.6"
  }
 },
 "nbformat": 4,
 "nbformat_minor": 5
}
