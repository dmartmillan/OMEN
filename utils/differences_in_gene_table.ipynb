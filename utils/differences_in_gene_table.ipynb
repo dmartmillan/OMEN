{
 "cells": [
  {
   "cell_type": "code",
   "execution_count": 22,
   "id": "55debe05",
   "metadata": {},
   "outputs": [],
   "source": [
    "import pandas as pd\n",
    "import seaborn as sns\n",
    "from pandas.plotting import table \n",
    "import matplotlib.pyplot as plt\n",
    "import dataframe_image as dfi"
   ]
  },
  {
   "cell_type": "code",
   "execution_count": 52,
   "id": "ccaf322f",
   "metadata": {},
   "outputs": [],
   "source": [
    "# Differences between rankings of different alpha values, in a table\n",
    "\n",
    "# Use sorted ranking files of the output folder\n",
    "alphas = [0,0.65,1]\n",
    "rankings = {}\n",
    "for alpha in alphas:\n",
    "    df = pd.read_csv('./ranks/network8_alpha_' + str(alpha) + '_corrected_non_aggr.desc',header = None)\n",
    "    df = df[df.index<100]\n",
    "    rankings[str(alpha)] = {k: i for i, k in enumerate(df[0].tolist())}"
   ]
  },
  {
   "cell_type": "code",
   "execution_count": 53,
   "id": "fd45bb97",
   "metadata": {},
   "outputs": [],
   "source": [
    "intersection_0_065 = set(rankings['0'].keys()).intersection(set(rankings['0.65'].keys())) \n",
    "intersection_0_1 = set(rankings['0'].keys()).intersection(set(rankings['1'].keys())) \n",
    "intersection_065_1 = set(rankings['0.65'].keys()).intersection(set(rankings['1'].keys()))"
   ]
  },
  {
   "cell_type": "code",
   "execution_count": 54,
   "id": "fd22b524",
   "metadata": {},
   "outputs": [],
   "source": [
    "## Intersection 0 - 0.65\n",
    "inter = []\n",
    "distance = []\n",
    "position = []\n",
    "\n",
    "inter_0_065_section = []\n",
    "\n",
    "\n",
    "for g in intersection_0_065:\n",
    "    value_0 = rankings['0'][g]\n",
    "    value_065 = rankings['0.65'][g]\n",
    "    same_section = \"Equal section\" if (value_0 > 50 and value_065 > 50) or (value_0 < 50 and value_065 < 50) else \"Nonequal section\"\n",
    "    position.append(same_section)\n",
    "    if (value_0 > 50 and value_065 > 50) or (value_0 < 50 and value_065 < 50):\n",
    "        inter_0_065_section.append(g)\n",
    "    total_value = abs(value_0 - value_065)\n",
    "    inter.append(\"0 - 0.65\")\n",
    "    distance.append(total_value)\n",
    "    \n",
    "inter_0_1_section = []\n",
    "    \n",
    "## Intersection 0 - 1\n",
    "for i, g in enumerate(intersection_0_1):\n",
    "    value_0 = rankings['0'][g]\n",
    "    value_1 = rankings['1'][g]\n",
    "    same_section = \"Equal section\" if (value_0 > 50 and value_1 > 50) or (value_0 < 50 and value_1 < 50) else \"Nonequal section\"\n",
    "    position.append(same_section)\n",
    "    if (value_0 > 50 and value_1 > 50) or (value_0 < 50 and value_1 < 50):\n",
    "        inter_0_1_section.append(g)\n",
    "    total_value = abs(value_0 - value_1)\n",
    "    inter.append(\"0 - 1\")\n",
    "    distance.append(total_value)\n",
    "\n",
    "inter_065_1_section = []\n",
    "\n",
    "## Intersection 0.65 - 1\n",
    "for i, g in enumerate(intersection_065_1):\n",
    "    value_065 = rankings['0.65'][g]\n",
    "    value_1 = rankings['1'][g]\n",
    "    same_section = \"Equal section\" if (value_065 > 50 and value_1 > 50) or (value_065 < 50 and value_1 < 50) else \"Nonequal section\"\n",
    "    position.append(same_section)\n",
    "    if (value_065 > 50 and value_1 > 50) or (value_065 < 50 and value_1 < 50):\n",
    "        inter_065_1_section.append(g)\n",
    "    total_value = abs(value_065 - value_1)\n",
    "    inter.append(\"0.65 - 1\")\n",
    "    distance.append(total_value)\n",
    "\n",
    "    \n",
    "d = {'Intersection': inter, 'Distance': distance, 'Position': position}\n",
    "df = pd.DataFrame(data=d)"
   ]
  },
  {
   "cell_type": "code",
   "execution_count": 55,
   "id": "39646751",
   "metadata": {},
   "outputs": [
    {
     "name": "stdout",
     "output_type": "stream",
     "text": [
      "Overlap between all the Equal section genes: 7\n",
      "\n",
      "\n",
      "    Gene  Pos ranking 0  Pos ranking 0.65  Pos ranking 1\n",
      "0   MBD3              6                 4             18\n",
      "1  TGIF2             22                 6             26\n",
      "2    MYC              1                 1             11\n",
      "3  EP300             15                 3              9\n",
      "4   MYNN              2                 2             13\n",
      "5  STAT1              9                 0              0\n",
      "6   TP53              0                 5             33\n"
     ]
    }
   ],
   "source": [
    "inter_eq = set(inter_065_1_section).intersection(set(inter_0_1_section))\n",
    "inter_eq_2 = set(inter_0_065_section).intersection(inter_eq)\n",
    "print(\"Overlap between all the Equal section genes: \" + str(len(inter_eq_2)))\n",
    "print(\"\\n\")\n",
    "\n",
    "genes_section = []\n",
    "pos_0 = []\n",
    "pos_1 = []\n",
    "pos_065 = []\n",
    "\n",
    "for g in inter_eq_2: \n",
    "    genes_section.append(g)\n",
    "    pos_0.append(rankings[str(0)][g])\n",
    "    pos_065.append(rankings[str(0.65)][g])\n",
    "    pos_1.append(rankings[str(1)][g])\n",
    "    \n",
    "d_section = {'Gene': genes_section, 'Pos ranking 0': pos_0, 'Pos ranking 0.65': pos_065, 'Pos ranking 1': pos_1}\n",
    "df_section = pd.DataFrame(data=d_section)\n",
    "print(df_section)\n",
    "df_section.to_csv(\"./plots_ranks/network8_Overlap_between_all_the_Equal_section_corrected_non_aggr.csv\") "
   ]
  },
  {
   "cell_type": "code",
   "execution_count": null,
   "id": "b7161600",
   "metadata": {},
   "outputs": [],
   "source": []
  },
  {
   "cell_type": "code",
   "execution_count": null,
   "id": "b94fd9f3",
   "metadata": {},
   "outputs": [],
   "source": []
  }
 ],
 "metadata": {
  "kernelspec": {
   "display_name": "Python 3 (ipykernel)",
   "language": "python",
   "name": "python3"
  },
  "language_info": {
   "codemirror_mode": {
    "name": "ipython",
    "version": 3
   },
   "file_extension": ".py",
   "mimetype": "text/x-python",
   "name": "python",
   "nbconvert_exporter": "python",
   "pygments_lexer": "ipython3",
   "version": "3.10.6"
  }
 },
 "nbformat": 4,
 "nbformat_minor": 5
}
