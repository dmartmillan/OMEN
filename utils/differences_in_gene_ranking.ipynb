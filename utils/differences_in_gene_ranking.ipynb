{
 "cells": [
  {
   "cell_type": "code",
   "execution_count": 1,
   "id": "55debe05",
   "metadata": {},
   "outputs": [],
   "source": [
    "import pandas as pd\n",
    "import seaborn as sns"
   ]
  },
  {
   "cell_type": "code",
   "execution_count": 44,
   "id": "ccaf322f",
   "metadata": {},
   "outputs": [],
   "source": [
    "# Differences between rankings of different alpha values\n",
    "\n",
    "# Use sorted ranking files of the output folder\n",
    "alphas = [0,0.65,1]\n",
    "rankings = {}\n",
    "for alpha in alphas:\n",
    "    df = pd.read_csv('network8_alpha_' + str(alpha) + '.desc',header = None)\n",
    "    df = df[df.index<100]\n",
    "    rankings[str(alpha)] = {k: i for i, k in enumerate(df[0].tolist())}"
   ]
  },
  {
   "cell_type": "code",
   "execution_count": 45,
   "id": "fd45bb97",
   "metadata": {},
   "outputs": [],
   "source": [
    "intersection_0_065 = set(rankings['0'].keys()).intersection(set(rankings['0.65'].keys())) \n",
    "intersection_0_1 = set(rankings['0'].keys()).intersection(set(rankings['1'].keys())) \n",
    "intersection_065_1 = set(rankings['0.65'].keys()).intersection(set(rankings['1'].keys()))"
   ]
  },
  {
   "cell_type": "code",
   "execution_count": 46,
   "id": "fd22b524",
   "metadata": {},
   "outputs": [
    {
     "data": {
      "image/png": "[encoded data removed]",
      "text/plain": [
       "<Figure size 500x500 with 1 Axes>"
      ]
     },
     "metadata": {},
     "output_type": "display_data"
    }
   ],
   "source": [
    "## Intersection 0 - 0.65\n",
    "inter = []\n",
    "distance = []\n",
    "position = []\n",
    "\n",
    "inter_0_065_section = []\n",
    "\n",
    "\n",
    "for g in intersection_0_065:\n",
    "    value_0 = rankings['0'][g]\n",
    "    value_065 = rankings['0.65'][g]\n",
    "    same_section = \"Equal section\" if (value_0 > 50 and value_065 > 50) or (value_0 < 50 and value_065 < 50) else \"Nonequal section\"\n",
    "    position.append(same_section)\n",
    "    if (value_0 > 50 and value_065 > 50) or (value_0 < 50 and value_065 < 50):\n",
    "        inter_0_065_section.append(g)\n",
    "    total_value = abs(value_0 - value_065)\n",
    "    inter.append(\"0 - 0.65\")\n",
    "    distance.append(total_value)\n",
    "    \n",
    "inter_0_1_section = []\n",
    "    \n",
    "## Intersection 0 - 1\n",
    "for i, g in enumerate(intersection_0_1):\n",
    "    value_0 = rankings['0'][g]\n",
    "    value_1 = rankings['1'][g]\n",
    "    same_section = \"Equal section\" if (value_0 > 50 and value_1 > 50) or (value_0 < 50 and value_1 < 50) else \"Nonequal section\"\n",
    "    position.append(same_section)\n",
    "    if (value_0 > 50 and value_1 > 50) or (value_0 < 50 and value_1 < 50):\n",
    "        inter_0_1_section.append(g)\n",
    "    total_value = abs(value_0 - value_1)\n",
    "    inter.append(\"0 - 1\")\n",
    "    distance.append(total_value)\n",
    "\n",
    "inter_065_1_section = []\n",
    "\n",
    "## Intersection 0.65 - 1\n",
    "for i, g in enumerate(intersection_065_1):\n",
    "    value_065 = rankings['0.65'][g]\n",
    "    value_1 = rankings['1'][g]\n",
    "    same_section = \"Equal section\" if (value_065 > 50 and value_1 > 50) or (value_065 < 50 and value_1 < 50) else \"Nonequal section\"\n",
    "    position.append(same_section)\n",
    "    if (value_065 > 50 and value_1 > 50) or (value_065 < 50 and value_1 < 50):\n",
    "        inter_065_1_section.append(g)\n",
    "    total_value = abs(value_065 - value_1)\n",
    "    inter.append(\"0.65 - 1\")\n",
    "    distance.append(total_value)\n",
    "\n",
    "    \n",
    "d = {'Intersection': inter, 'Distance': distance, 'Position': position}\n",
    "df = pd.DataFrame(data=d)\n",
    "\n",
    "sns_plot = sns.catplot(data=df, x=\"Intersection\", y=\"Distance\", kind=\"swarm\")\n",
    "sns_plot.savefig(\"network8_differences_ranking_genes_corrected.png\")"
   ]
  },
  {
   "cell_type": "code",
   "execution_count": 47,
   "id": "866f3065",
   "metadata": {},
   "outputs": [
    {
     "name": "stdout",
     "output_type": "stream",
     "text": [
      "Intersection 0 - 0.65\n",
      "Total genes: 27 of 100.\n",
      "Equal section: 16.\n",
      "Nonequal section: 11.\n",
      "\n",
      "\n",
      "Intersection 0 - 1\n",
      "Total genes: 20 of 100.\n",
      "Equal section: 12.\n",
      "Nonequal section: 8.\n",
      "\n",
      "\n",
      "Intersection 0.65 - 1\n",
      "Total genes: 81 of 100.\n",
      "Equal section: 59.\n",
      "Nonequal section: 22.\n"
     ]
    }
   ],
   "source": [
    "print(\"Intersection 0 - 0.65\")\n",
    "print(\"Total genes: \" + str(len(intersection_0_065)) + \" of 100.\")\n",
    "print(\"Equal section: \" + str(len(inter_0_065_section)) + \".\")\n",
    "print(\"Nonequal section: \" + str(len(intersection_0_065) - len(inter_0_065_section)) + \".\")\n",
    "print(\"\\n\")\n",
    "print(\"Intersection 0 - 1\")\n",
    "print(\"Total genes: \" + str(len(intersection_0_1)) + \" of 100.\")\n",
    "print(\"Equal section: \" + str(len(inter_0_1_section)) + \".\")\n",
    "print(\"Nonequal section: \" + str(len(intersection_0_1) - len(inter_0_1_section)) + \".\")\n",
    "print(\"\\n\")\n",
    "print(\"Intersection 0.65 - 1\")\n",
    "print(\"Total genes: \" + str(len(intersection_065_1)) + \" of 100.\")\n",
    "print(\"Equal section: \" + str(len(inter_065_1_section)) + \".\")\n",
    "print(\"Nonequal section: \" + str(len(intersection_065_1) - len(inter_065_1_section)) + \".\")"
   ]
  },
  {
   "cell_type": "code",
   "execution_count": 48,
   "id": "39646751",
   "metadata": {},
   "outputs": [
    {
     "name": "stdout",
     "output_type": "stream",
     "text": [
      "Overlap between all the Equal section genes: 11\n",
      "\n",
      "\n",
      "      Gene  Pos ranking 0  Pos ranking 0.65  Pos ranking 1\n",
      "0      MYC              0                 3              8\n",
      "1    PCGF2             23                 5             17\n",
      "2     MBD3              8                 8             19\n",
      "3     CTCF             31                10             21\n",
      "4    EP300              2                 2              4\n",
      "5    STAT1             35                 0              0\n",
      "6     MYNN              7                 6             18\n",
      "7     E2F1             11                 7             14\n",
      "8      SP1             46                21             39\n",
      "9     TP53              1                11             34\n",
      "10  ZBTB11              3                 1              5\n"
     ]
    }
   ],
   "source": [
    "inter_eq = set(inter_065_1_section).intersection(set(inter_0_1_section))\n",
    "inter_eq_2 = set(inter_0_065_section).intersection(inter_eq)\n",
    "print(\"Overlap between all the Equal section genes: \" + str(len(inter_eq_2)))\n",
    "print(\"\\n\")\n",
    "\n",
    "genes_section = []\n",
    "pos_0 = []\n",
    "pos_1 = []\n",
    "pos_065 = []\n",
    "\n",
    "for g in inter_eq_2: \n",
    "    genes_section.append(g)\n",
    "    pos_0.append(rankings[str(0)][g])\n",
    "    pos_065.append(rankings[str(0.65)][g])\n",
    "    pos_1.append(rankings[str(1)][g])\n",
    "    \n",
    "d_section = {'Gene': genes_section, 'Pos ranking 0': pos_0, 'Pos ranking 0.65': pos_065, 'Pos ranking 1': pos_1}\n",
    "df_section = pd.DataFrame(data=d_section)\n",
    "print(df_section)\n",
    "df_section.to_csv(\"network8_Overlap_between_all_the_Equal_section_corrected.csv\") "
   ]
  },
  {
   "cell_type": "code",
   "execution_count": null,
   "id": "4c115314",
   "metadata": {},
   "outputs": [],
   "source": []
  },
  {
   "cell_type": "code",
   "execution_count": null,
   "id": "b7161600",
   "metadata": {},
   "outputs": [],
   "source": []
  }
 ],
 "metadata": {
  "kernelspec": {
   "display_name": "Python 3 (ipykernel)",
   "language": "python",
   "name": "python3"
  },
  "language_info": {
   "codemirror_mode": {
    "name": "ipython",
    "version": 3
   },
   "file_extension": ".py",
   "mimetype": "text/x-python",
   "name": "python",
   "nbconvert_exporter": "python",
   "pygments_lexer": "ipython3",
   "version": "3.10.6"
  }
 },
 "nbformat": 4,
 "nbformat_minor": 5
}
